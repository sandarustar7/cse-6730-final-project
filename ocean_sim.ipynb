{
  "cells": [
    {
      "cell_type": "markdown",
      "metadata": {
        "id": "-kx7nG4Doik0"
      },
      "source": [
        "# Introduction\n",
        "\n",
        "\n"
      ]
    },
    {
      "cell_type": "markdown",
      "metadata": {
        "id": "oIiAP8GkBKg0"
      },
      "source": [
        "## Installation"
      ]
    },
    {
      "cell_type": "code",
      "execution_count": null,
      "metadata": {
        "id": "O2Dk8L2OwEYl"
      },
      "outputs": [],
      "source": [
        "!pip install geopandas -q\n",
        "!pip install matplotlib mapclassify -q\n",
        "!pip install folium==0.12.1.post1 -q\n",
        "!pip install netCDF4 -q\n",
        "!pip install rtree -q\n",
        "!pip install geopy -q"
      ]
    },
    {
      "cell_type": "code",
      "execution_count": null,
      "metadata": {
        "colab": {
          "base_uri": "https://localhost:8080/"
        },
        "id": "-o2eoo6PgXCp",
        "outputId": "4addb19f-0a54-4c23-8bf4-5d86495c0e1c"
      },
      "outputs": [
        {
          "output_type": "stream",
          "name": "stdout",
          "text": [
            "Archive:  data.zip\n",
            "replace data/AIS_May_2021/__MACOSX/._AIS_May_2021.csv? [y]es, [n]o, [A]ll, [N]one, [r]ename: N\n"
          ]
        }
      ],
      "source": [
        "!unzip data.zip"
      ]
    },
    {
      "cell_type": "code",
      "execution_count": null,
      "metadata": {
        "id": "a-CsCnNrv_xT"
      },
      "outputs": [],
      "source": [
        "import geopandas\n",
        "import pandas as pd\n",
        "import plotly\n",
        "import matplotlib.pyplot as plt\n",
        "import numpy as np\n",
        "import folium\n",
        "from shapely.geometry import Point, Polygon, LineString\n",
        "import shapely\n",
        "import math\n",
        "import xarray as xr\n",
        "import statistics"
      ]
    },
    {
      "cell_type": "code",
      "source": [
        "# Downloading Coordinate data\n",
        "!wget -q https://www.microtransat.org/tracking/eastern_line.csv\n",
        "!wget -q https://www.microtransat.org/tracking/western_line.csv\n",
        "!wget https://apps-nefsc.fisheries.noaa.gov/drifter/drift_ep_2018_1.csv"
      ],
      "metadata": {
        "colab": {
          "base_uri": "https://localhost:8080/"
        },
        "id": "sVeoYYzf9CSu",
        "outputId": "a6cf5d84-2fc2-4ae1-823c-afe0398429f1"
      },
      "execution_count": null,
      "outputs": [
        {
          "output_type": "stream",
          "name": "stdout",
          "text": [
            "--2022-04-30 04:30:21--  https://apps-nefsc.fisheries.noaa.gov/drifter/drift_ep_2018_1.csv\n",
            "Resolving apps-nefsc.fisheries.noaa.gov (apps-nefsc.fisheries.noaa.gov)... 23.77.14.181, 2600:1417:9800:491::2580, 2600:1417:9800:4ac::2580\n",
            "Connecting to apps-nefsc.fisheries.noaa.gov (apps-nefsc.fisheries.noaa.gov)|23.77.14.181|:443... connected.\n",
            "HTTP request sent, awaiting response... 200 OK\n",
            "Length: 342738 (335K) [text/csv]\n",
            "Saving to: ‘drift_ep_2018_1.csv.2’\n",
            "\n",
            "drift_ep_2018_1.csv 100%[===================>] 334.71K  1.60MB/s    in 0.2s    \n",
            "\n",
            "2022-04-30 04:30:22 (1.60 MB/s) - ‘drift_ep_2018_1.csv.2’ saved [342738/342738]\n",
            "\n"
          ]
        }
      ]
    },
    {
      "cell_type": "markdown",
      "metadata": {
        "id": "aP9V-PQc4aAb"
      },
      "source": [
        "### Microtransat Starting and Ending Lines\n"
      ]
    },
    {
      "cell_type": "code",
      "execution_count": null,
      "metadata": {
        "id": "SBLNXryV5iEm"
      },
      "outputs": [],
      "source": [
        "eastern_line = pd.read_csv('eastern_line.csv').replace('\"','')\n",
        "western_line = pd.read_csv('western_line.csv')\n",
        "eastern_line.columns = ['Latitude', 'Longitude']\n",
        "western_line.columns = ['Latitude', 'Longitude']"
      ]
    },
    {
      "cell_type": "code",
      "execution_count": null,
      "metadata": {
        "id": "jWPMPQEp--OM"
      },
      "outputs": [],
      "source": [
        "coords = list(zip(eastern_line['Longitude'], eastern_line['Latitude']))"
      ]
    },
    {
      "cell_type": "code",
      "execution_count": null,
      "metadata": {
        "colab": {
          "base_uri": "https://localhost:8080/"
        },
        "id": "-6yV05rC6pfD",
        "outputId": "f1205987-5c5e-4de3-d6ed-37d8a4f05ae6"
      },
      "outputs": [
        {
          "output_type": "stream",
          "name": "stderr",
          "text": [
            "/usr/local/lib/python3.7/dist-packages/pyproj/crs/crs.py:131: FutureWarning: '+init=<authority>:<code>' syntax is deprecated. '<authority>:<code>' is the preferred initialization method. When making the change, be mindful of axis order changes: https://pyproj4.github.io/pyproj/stable/gotchas.html#axis-order-changes-in-proj-6\n",
            "  in_crs_string = _prepare_from_proj_string(in_crs_string)\n",
            "/usr/local/lib/python3.7/dist-packages/pyproj/crs/crs.py:131: FutureWarning: '+init=<authority>:<code>' syntax is deprecated. '<authority>:<code>' is the preferred initialization method. When making the change, be mindful of axis order changes: https://pyproj4.github.io/pyproj/stable/gotchas.html#axis-order-changes-in-proj-6\n",
            "  in_crs_string = _prepare_from_proj_string(in_crs_string)\n"
          ]
        }
      ],
      "source": [
        "crs={'init':'epsg:4236'} # Coordinate Reference System\n",
        "dummy_df = pd.DataFrame()\n",
        "dummy_df['Attrib'] = [1,]\n",
        "dummy_df2 = pd.DataFrame()\n",
        "dummy_df2['Attrib'] = [1,]\n",
        "east_geometry = LineString(list(zip(eastern_line['Longitude'], eastern_line['Latitude'])))\n",
        "eastern_line_data = geopandas.GeoDataFrame(dummy_df, crs=crs, geometry=[east_geometry])\n",
        "west_geometry = LineString(list(zip(western_line['Longitude'], western_line['Latitude'])))\n",
        "western_line_data = geopandas.GeoDataFrame(dummy_df2, crs=crs, geometry=[west_geometry])"
      ]
    },
    {
      "cell_type": "markdown",
      "metadata": {
        "id": "x0K_O_BHQaf5"
      },
      "source": [
        "#### Improvements\n",
        "https://plotly.com/python/map-configuration/\n"
      ]
    },
    {
      "cell_type": "code",
      "execution_count": null,
      "metadata": {
        "id": "enD9AKI4Qc36"
      },
      "outputs": [],
      "source": [
        "import plotly.graph_objects as go\n",
        "import plotly.express as px"
      ]
    },
    {
      "cell_type": "code",
      "execution_count": null,
      "metadata": {
        "id": "Mu2DGOeqVULh"
      },
      "outputs": [],
      "source": [
        "lats = western_line[\"Latitude\"].append(pd.Series(index=[0],data=[None])).append(eastern_line[\"Latitude\"])\n",
        "lons = western_line[\"Longitude\"].append(pd.Series(index=[0],data=[None])).append(eastern_line[\"Longitude\"])"
      ]
    },
    {
      "cell_type": "code",
      "execution_count": null,
      "metadata": {
        "id": "4h9pntTXQn1a"
      },
      "outputs": [],
      "source": [
        "# print(lats)\n",
        "# fig = px.line_geo(lat = lats, lon = lons)\n",
        "# fig.update_geos(fitbounds=\"locations\")\n",
        "# fig.update_layout(height=300, margin={\"r\":0,\"t\":0,\"l\":0,\"b\":0})\n",
        "# fig.show()"
      ]
    },
    {
      "cell_type": "markdown",
      "metadata": {
        "id": "WKDw8ha8ggJ5"
      },
      "source": [
        "## Simulation Variables\n",
        "\n",
        "North Atlantic Coordinates\n",
        "\n",
        " - Min. Lat 0° 56' 9.7\" S (-0.936°)  \n",
        " - Min. Long 98° 3' 14.1\" W (-98.0539°)  \n",
        " - Max. Lat 68° 38' 19.4\" N (68.6387°)  \n",
        " - Max. Long 12° 0' 21.4\" E (12.0059°) \n",
        "\n",
        "https://marineregions.org/gazetteer.php?p=details&amp;id=1912 "
      ]
    },
    {
      "cell_type": "code",
      "execution_count": null,
      "metadata": {
        "id": "eTtTpztZgf2T"
      },
      "outputs": [],
      "source": [
        "na_minlat = 0\n",
        "na_maxlat = 68\n",
        "na_minlong = -98\n",
        "na_maxlong = 12\n",
        "na_bounds = [0, 68, -98, 12]"
      ]
    },
    {
      "cell_type": "code",
      "execution_count": null,
      "metadata": {
        "id": "i_KBUssuiJAW"
      },
      "outputs": [],
      "source": [
        "def get_bounded_df(in_df, bounds):\n",
        "  '''Takes in a dataframe, returns '''\n",
        "  df = in_df.copy()\n",
        "  if bounds[2] < 0:\n",
        "    clone = df.copy()\n",
        "    clone[\"lon\"] = clone[\"lon\"].subtract(360)\n",
        "    df = pd.concat([df, clone], ignore_index=True)\n",
        "\n",
        "  df.drop(df[df[\"lat\"] < bounds[0]].index, inplace=True)\n",
        "  df.drop(df[df[\"lat\"] > bounds[1]].index, inplace=True)\n",
        "  df.drop(df[df[\"lon\"] < -100].index, inplace=True)\n",
        "  df.drop(df[df[\"lon\"] > bounds[3]].index, inplace=True)\n",
        "\n",
        "  geopandas.GeoDataFrame(in_df, geometry=geopandas.points_from_xy(in_df.lon, in_df.lat)).drop(columns=['lat', 'lon'])\n",
        "  return df"
      ]
    },
    {
      "cell_type": "markdown",
      "metadata": {
        "id": "HVpfXftiolcU"
      },
      "source": [
        "## Nautical charts\n",
        "https://oceanservice.noaa.gov/facts/find-charts.html"
      ]
    },
    {
      "cell_type": "markdown",
      "metadata": {
        "id": "S9owkjEFBv1R"
      },
      "source": [
        "Nautical charts are not in a python-friendly format, not really practical to write a parser.\n",
        "\n",
        "Surface Currents Dataset: https://www.esr.org/research/oscar/overview/ <br> \n",
        "Surface Winds Dataset: https://data.noaa.gov/dataset/dataset/noaa-ncdc-blended-monthly-global-0-25-sea-surface-wind-stress-1987-2011-lon-1801 <br>\n",
        "Datasets are in a folder in sharepoint"
      ]
    },
    {
      "cell_type": "code",
      "execution_count": null,
      "metadata": {
        "colab": {
          "base_uri": "https://localhost:8080/",
          "height": 308
        },
        "id": "oiQFBLhS0VPB",
        "outputId": "219ebd45-9dd2-4016-bbe6-440bf66f861a"
      },
      "outputs": [
        {
          "output_type": "execute_result",
          "data": {
            "text/plain": [
              "<xarray.Dataset>\n",
              "Dimensions:  (lat: 719, lon: 1440, time: 1, zlev: 1)\n",
              "Coordinates:\n",
              "  * time     (time) datetime64[ns] 2011-09-15\n",
              "  * zlev     (zlev) float32 10.0\n",
              "  * lat      (lat) float32 -89.75 -89.5 -89.25 -89.0 ... 89.0 89.25 89.5 89.75\n",
              "  * lon      (lon) float32 0.0 0.25 0.5 0.75 1.0 ... 359.0 359.2 359.5 359.8\n",
              "Data variables:\n",
              "    u        (time, zlev, lat, lon) float32 ...\n",
              "    v        (time, zlev, lat, lon) float32 ...\n",
              "    w        (time, zlev, lat, lon) float32 ...\n",
              "Attributes:\n",
              "    Conventions:          COARDS, CF-1.0, Unidata Dataset Discovery v1.0\n",
              "    title:                NOAA/NCDC Blended monthly 0.25-degree Sea Surface W...\n",
              "    source:               Multiple satellite observations: DMSP SSMI F08, F10...\n",
              "    summary:              Gridded and blended sea surface vector winds from m...\n",
              "    Keywords:             sea winds, ocean winds, sea surface winds, air-sea ...\n",
              "    references:           links at http://www.ncdc.noaa.gov/oa/rsad/blendedse...\n",
              "    History:              Simple spatiotemporally weighted Interpolation (SI)...\n",
              "    institution:          NOAA NESDIS National Climatic Data Center\n",
              "    Contact:              Huai-Min.Zhang AT noaa.gov or satorder AT noaa.gov;...\n",
              "    Acknowledgment:       The gridded data were generated from the multiple s...\n",
              "    Data_Calendar_Month:  2011-09\n",
              "    Comment:              The time in the netCDF should be the center of a ca..."
            ],
            "text/html": [
              "<div><svg style=\"position: absolute; width: 0; height: 0; overflow: hidden\">\n",
              "<defs>\n",
              "<symbol id=\"icon-database\" viewBox=\"0 0 32 32\">\n",
              "<path d=\"M16 0c-8.837 0-16 2.239-16 5v4c0 2.761 7.163 5 16 5s16-2.239 16-5v-4c0-2.761-7.163-5-16-5z\"></path>\n",
              "<path d=\"M16 17c-8.837 0-16-2.239-16-5v6c0 2.761 7.163 5 16 5s16-2.239 16-5v-6c0 2.761-7.163 5-16 5z\"></path>\n",
              "<path d=\"M16 26c-8.837 0-16-2.239-16-5v6c0 2.761 7.163 5 16 5s16-2.239 16-5v-6c0 2.761-7.163 5-16 5z\"></path>\n",
              "</symbol>\n",
              "<symbol id=\"icon-file-text2\" viewBox=\"0 0 32 32\">\n",
              "<path d=\"M28.681 7.159c-0.694-0.947-1.662-2.053-2.724-3.116s-2.169-2.030-3.116-2.724c-1.612-1.182-2.393-1.319-2.841-1.319h-15.5c-1.378 0-2.5 1.121-2.5 2.5v27c0 1.378 1.122 2.5 2.5 2.5h23c1.378 0 2.5-1.122 2.5-2.5v-19.5c0-0.448-0.137-1.23-1.319-2.841zM24.543 5.457c0.959 0.959 1.712 1.825 2.268 2.543h-4.811v-4.811c0.718 0.556 1.584 1.309 2.543 2.268zM28 29.5c0 0.271-0.229 0.5-0.5 0.5h-23c-0.271 0-0.5-0.229-0.5-0.5v-27c0-0.271 0.229-0.5 0.5-0.5 0 0 15.499-0 15.5 0v7c0 0.552 0.448 1 1 1h7v19.5z\"></path>\n",
              "<path d=\"M23 26h-14c-0.552 0-1-0.448-1-1s0.448-1 1-1h14c0.552 0 1 0.448 1 1s-0.448 1-1 1z\"></path>\n",
              "<path d=\"M23 22h-14c-0.552 0-1-0.448-1-1s0.448-1 1-1h14c0.552 0 1 0.448 1 1s-0.448 1-1 1z\"></path>\n",
              "<path d=\"M23 18h-14c-0.552 0-1-0.448-1-1s0.448-1 1-1h14c0.552 0 1 0.448 1 1s-0.448 1-1 1z\"></path>\n",
              "</symbol>\n",
              "</defs>\n",
              "</svg>\n",
              "<style>/* CSS stylesheet for displaying xarray objects in jupyterlab.\n",
              " *\n",
              " */\n",
              "\n",
              ":root {\n",
              "  --xr-font-color0: var(--jp-content-font-color0, rgba(0, 0, 0, 1));\n",
              "  --xr-font-color2: var(--jp-content-font-color2, rgba(0, 0, 0, 0.54));\n",
              "  --xr-font-color3: var(--jp-content-font-color3, rgba(0, 0, 0, 0.38));\n",
              "  --xr-border-color: var(--jp-border-color2, #e0e0e0);\n",
              "  --xr-disabled-color: var(--jp-layout-color3, #bdbdbd);\n",
              "  --xr-background-color: var(--jp-layout-color0, white);\n",
              "  --xr-background-color-row-even: var(--jp-layout-color1, white);\n",
              "  --xr-background-color-row-odd: var(--jp-layout-color2, #eeeeee);\n",
              "}\n",
              "\n",
              "html[theme=dark],\n",
              "body.vscode-dark {\n",
              "  --xr-font-color0: rgba(255, 255, 255, 1);\n",
              "  --xr-font-color2: rgba(255, 255, 255, 0.54);\n",
              "  --xr-font-color3: rgba(255, 255, 255, 0.38);\n",
              "  --xr-border-color: #1F1F1F;\n",
              "  --xr-disabled-color: #515151;\n",
              "  --xr-background-color: #111111;\n",
              "  --xr-background-color-row-even: #111111;\n",
              "  --xr-background-color-row-odd: #313131;\n",
              "}\n",
              "\n",
              ".xr-wrap {\n",
              "  display: block;\n",
              "  min-width: 300px;\n",
              "  max-width: 700px;\n",
              "}\n",
              "\n",
              ".xr-text-repr-fallback {\n",
              "  /* fallback to plain text repr when CSS is not injected (untrusted notebook) */\n",
              "  display: none;\n",
              "}\n",
              "\n",
              ".xr-header {\n",
              "  padding-top: 6px;\n",
              "  padding-bottom: 6px;\n",
              "  margin-bottom: 4px;\n",
              "  border-bottom: solid 1px var(--xr-border-color);\n",
              "}\n",
              "\n",
              ".xr-header > div,\n",
              ".xr-header > ul {\n",
              "  display: inline;\n",
              "  margin-top: 0;\n",
              "  margin-bottom: 0;\n",
              "}\n",
              "\n",
              ".xr-obj-type,\n",
              ".xr-array-name {\n",
              "  margin-left: 2px;\n",
              "  margin-right: 10px;\n",
              "}\n",
              "\n",
              ".xr-obj-type {\n",
              "  color: var(--xr-font-color2);\n",
              "}\n",
              "\n",
              ".xr-sections {\n",
              "  padding-left: 0 !important;\n",
              "  display: grid;\n",
              "  grid-template-columns: 150px auto auto 1fr 20px 20px;\n",
              "}\n",
              "\n",
              ".xr-section-item {\n",
              "  display: contents;\n",
              "}\n",
              "\n",
              ".xr-section-item input {\n",
              "  display: none;\n",
              "}\n",
              "\n",
              ".xr-section-item input + label {\n",
              "  color: var(--xr-disabled-color);\n",
              "}\n",
              "\n",
              ".xr-section-item input:enabled + label {\n",
              "  cursor: pointer;\n",
              "  color: var(--xr-font-color2);\n",
              "}\n",
              "\n",
              ".xr-section-item input:enabled + label:hover {\n",
              "  color: var(--xr-font-color0);\n",
              "}\n",
              "\n",
              ".xr-section-summary {\n",
              "  grid-column: 1;\n",
              "  color: var(--xr-font-color2);\n",
              "  font-weight: 500;\n",
              "}\n",
              "\n",
              ".xr-section-summary > span {\n",
              "  display: inline-block;\n",
              "  padding-left: 0.5em;\n",
              "}\n",
              "\n",
              ".xr-section-summary-in:disabled + label {\n",
              "  color: var(--xr-font-color2);\n",
              "}\n",
              "\n",
              ".xr-section-summary-in + label:before {\n",
              "  display: inline-block;\n",
              "  content: '►';\n",
              "  font-size: 11px;\n",
              "  width: 15px;\n",
              "  text-align: center;\n",
              "}\n",
              "\n",
              ".xr-section-summary-in:disabled + label:before {\n",
              "  color: var(--xr-disabled-color);\n",
              "}\n",
              "\n",
              ".xr-section-summary-in:checked + label:before {\n",
              "  content: '▼';\n",
              "}\n",
              "\n",
              ".xr-section-summary-in:checked + label > span {\n",
              "  display: none;\n",
              "}\n",
              "\n",
              ".xr-section-summary,\n",
              ".xr-section-inline-details {\n",
              "  padding-top: 4px;\n",
              "  padding-bottom: 4px;\n",
              "}\n",
              "\n",
              ".xr-section-inline-details {\n",
              "  grid-column: 2 / -1;\n",
              "}\n",
              "\n",
              ".xr-section-details {\n",
              "  display: none;\n",
              "  grid-column: 1 / -1;\n",
              "  margin-bottom: 5px;\n",
              "}\n",
              "\n",
              ".xr-section-summary-in:checked ~ .xr-section-details {\n",
              "  display: contents;\n",
              "}\n",
              "\n",
              ".xr-array-wrap {\n",
              "  grid-column: 1 / -1;\n",
              "  display: grid;\n",
              "  grid-template-columns: 20px auto;\n",
              "}\n",
              "\n",
              ".xr-array-wrap > label {\n",
              "  grid-column: 1;\n",
              "  vertical-align: top;\n",
              "}\n",
              "\n",
              ".xr-preview {\n",
              "  color: var(--xr-font-color3);\n",
              "}\n",
              "\n",
              ".xr-array-preview,\n",
              ".xr-array-data {\n",
              "  padding: 0 5px !important;\n",
              "  grid-column: 2;\n",
              "}\n",
              "\n",
              ".xr-array-data,\n",
              ".xr-array-in:checked ~ .xr-array-preview {\n",
              "  display: none;\n",
              "}\n",
              "\n",
              ".xr-array-in:checked ~ .xr-array-data,\n",
              ".xr-array-preview {\n",
              "  display: inline-block;\n",
              "}\n",
              "\n",
              ".xr-dim-list {\n",
              "  display: inline-block !important;\n",
              "  list-style: none;\n",
              "  padding: 0 !important;\n",
              "  margin: 0;\n",
              "}\n",
              "\n",
              ".xr-dim-list li {\n",
              "  display: inline-block;\n",
              "  padding: 0;\n",
              "  margin: 0;\n",
              "}\n",
              "\n",
              ".xr-dim-list:before {\n",
              "  content: '(';\n",
              "}\n",
              "\n",
              ".xr-dim-list:after {\n",
              "  content: ')';\n",
              "}\n",
              "\n",
              ".xr-dim-list li:not(:last-child):after {\n",
              "  content: ',';\n",
              "  padding-right: 5px;\n",
              "}\n",
              "\n",
              ".xr-has-index {\n",
              "  font-weight: bold;\n",
              "}\n",
              "\n",
              ".xr-var-list,\n",
              ".xr-var-item {\n",
              "  display: contents;\n",
              "}\n",
              "\n",
              ".xr-var-item > div,\n",
              ".xr-var-item label,\n",
              ".xr-var-item > .xr-var-name span {\n",
              "  background-color: var(--xr-background-color-row-even);\n",
              "  margin-bottom: 0;\n",
              "}\n",
              "\n",
              ".xr-var-item > .xr-var-name:hover span {\n",
              "  padding-right: 5px;\n",
              "}\n",
              "\n",
              ".xr-var-list > li:nth-child(odd) > div,\n",
              ".xr-var-list > li:nth-child(odd) > label,\n",
              ".xr-var-list > li:nth-child(odd) > .xr-var-name span {\n",
              "  background-color: var(--xr-background-color-row-odd);\n",
              "}\n",
              "\n",
              ".xr-var-name {\n",
              "  grid-column: 1;\n",
              "}\n",
              "\n",
              ".xr-var-dims {\n",
              "  grid-column: 2;\n",
              "}\n",
              "\n",
              ".xr-var-dtype {\n",
              "  grid-column: 3;\n",
              "  text-align: right;\n",
              "  color: var(--xr-font-color2);\n",
              "}\n",
              "\n",
              ".xr-var-preview {\n",
              "  grid-column: 4;\n",
              "}\n",
              "\n",
              ".xr-var-name,\n",
              ".xr-var-dims,\n",
              ".xr-var-dtype,\n",
              ".xr-preview,\n",
              ".xr-attrs dt {\n",
              "  white-space: nowrap;\n",
              "  overflow: hidden;\n",
              "  text-overflow: ellipsis;\n",
              "  padding-right: 10px;\n",
              "}\n",
              "\n",
              ".xr-var-name:hover,\n",
              ".xr-var-dims:hover,\n",
              ".xr-var-dtype:hover,\n",
              ".xr-attrs dt:hover {\n",
              "  overflow: visible;\n",
              "  width: auto;\n",
              "  z-index: 1;\n",
              "}\n",
              "\n",
              ".xr-var-attrs,\n",
              ".xr-var-data {\n",
              "  display: none;\n",
              "  background-color: var(--xr-background-color) !important;\n",
              "  padding-bottom: 5px !important;\n",
              "}\n",
              "\n",
              ".xr-var-attrs-in:checked ~ .xr-var-attrs,\n",
              ".xr-var-data-in:checked ~ .xr-var-data {\n",
              "  display: block;\n",
              "}\n",
              "\n",
              ".xr-var-data > table {\n",
              "  float: right;\n",
              "}\n",
              "\n",
              ".xr-var-name span,\n",
              ".xr-var-data,\n",
              ".xr-attrs {\n",
              "  padding-left: 25px !important;\n",
              "}\n",
              "\n",
              ".xr-attrs,\n",
              ".xr-var-attrs,\n",
              ".xr-var-data {\n",
              "  grid-column: 1 / -1;\n",
              "}\n",
              "\n",
              "dl.xr-attrs {\n",
              "  padding: 0;\n",
              "  margin: 0;\n",
              "  display: grid;\n",
              "  grid-template-columns: 125px auto;\n",
              "}\n",
              "\n",
              ".xr-attrs dt,\n",
              ".xr-attrs dd {\n",
              "  padding: 0;\n",
              "  margin: 0;\n",
              "  float: left;\n",
              "  padding-right: 10px;\n",
              "  width: auto;\n",
              "}\n",
              "\n",
              ".xr-attrs dt {\n",
              "  font-weight: normal;\n",
              "  grid-column: 1;\n",
              "}\n",
              "\n",
              ".xr-attrs dt:hover span {\n",
              "  display: inline-block;\n",
              "  background: var(--xr-background-color);\n",
              "  padding-right: 10px;\n",
              "}\n",
              "\n",
              ".xr-attrs dd {\n",
              "  grid-column: 2;\n",
              "  white-space: pre-wrap;\n",
              "  word-break: break-all;\n",
              "}\n",
              "\n",
              ".xr-icon-database,\n",
              ".xr-icon-file-text2 {\n",
              "  display: inline-block;\n",
              "  vertical-align: middle;\n",
              "  width: 1em;\n",
              "  height: 1.5em !important;\n",
              "  stroke-width: 0;\n",
              "  stroke: currentColor;\n",
              "  fill: currentColor;\n",
              "}\n",
              "</style><pre class='xr-text-repr-fallback'>&lt;xarray.Dataset&gt;\n",
              "Dimensions:  (lat: 719, lon: 1440, time: 1, zlev: 1)\n",
              "Coordinates:\n",
              "  * time     (time) datetime64[ns] 2011-09-15\n",
              "  * zlev     (zlev) float32 10.0\n",
              "  * lat      (lat) float32 -89.75 -89.5 -89.25 -89.0 ... 89.0 89.25 89.5 89.75\n",
              "  * lon      (lon) float32 0.0 0.25 0.5 0.75 1.0 ... 359.0 359.2 359.5 359.8\n",
              "Data variables:\n",
              "    u        (time, zlev, lat, lon) float32 ...\n",
              "    v        (time, zlev, lat, lon) float32 ...\n",
              "    w        (time, zlev, lat, lon) float32 ...\n",
              "Attributes:\n",
              "    Conventions:          COARDS, CF-1.0, Unidata Dataset Discovery v1.0\n",
              "    title:                NOAA/NCDC Blended monthly 0.25-degree Sea Surface W...\n",
              "    source:               Multiple satellite observations: DMSP SSMI F08, F10...\n",
              "    summary:              Gridded and blended sea surface vector winds from m...\n",
              "    Keywords:             sea winds, ocean winds, sea surface winds, air-sea ...\n",
              "    references:           links at http://www.ncdc.noaa.gov/oa/rsad/blendedse...\n",
              "    History:              Simple spatiotemporally weighted Interpolation (SI)...\n",
              "    institution:          NOAA NESDIS National Climatic Data Center\n",
              "    Contact:              Huai-Min.Zhang AT noaa.gov or satorder AT noaa.gov;...\n",
              "    Acknowledgment:       The gridded data were generated from the multiple s...\n",
              "    Data_Calendar_Month:  2011-09\n",
              "    Comment:              The time in the netCDF should be the center of a ca...</pre><div class='xr-wrap' hidden><div class='xr-header'><div class='xr-obj-type'>xarray.Dataset</div></div><ul class='xr-sections'><li class='xr-section-item'><input id='section-da46426e-2af6-4b40-909f-a71e85cbf113' class='xr-section-summary-in' type='checkbox' disabled ><label for='section-da46426e-2af6-4b40-909f-a71e85cbf113' class='xr-section-summary'  title='Expand/collapse section'>Dimensions:</label><div class='xr-section-inline-details'><ul class='xr-dim-list'><li><span class='xr-has-index'>lat</span>: 719</li><li><span class='xr-has-index'>lon</span>: 1440</li><li><span class='xr-has-index'>time</span>: 1</li><li><span class='xr-has-index'>zlev</span>: 1</li></ul></div><div class='xr-section-details'></div></li><li class='xr-section-item'><input id='section-a81d66fa-af2d-4427-a99f-84ace2605d59' class='xr-section-summary-in' type='checkbox'  checked><label for='section-a81d66fa-af2d-4427-a99f-84ace2605d59' class='xr-section-summary' >Coordinates: <span>(4)</span></label><div class='xr-section-inline-details'></div><div class='xr-section-details'><ul class='xr-var-list'><li class='xr-var-item'><div class='xr-var-name'><span class='xr-has-index'>time</span></div><div class='xr-var-dims'>(time)</div><div class='xr-var-dtype'>datetime64[ns]</div><div class='xr-var-preview xr-preview'>2011-09-15</div><input id='attrs-8f44046d-5c8f-4daf-8d17-fe8d818cc409' class='xr-var-attrs-in' type='checkbox' ><label for='attrs-8f44046d-5c8f-4daf-8d17-fe8d818cc409' title='Show/Hide attributes'><svg class='icon xr-icon-file-text2'><use xlink:href='#icon-file-text2'></use></svg></label><input id='data-12ed1e19-0dec-45db-82ec-6411eb0ad040' class='xr-var-data-in' type='checkbox'><label for='data-12ed1e19-0dec-45db-82ec-6411eb0ad040' title='Show/Hide data repr'><svg class='icon xr-icon-database'><use xlink:href='#icon-database'></use></svg></label><div class='xr-var-attrs'><dl class='xr-attrs'><dt><span>long_name :</span></dt><dd>Center Time of the Data</dd></dl></div><div class='xr-var-data'><pre>array([&#x27;2011-09-15T00:00:00.000000000&#x27;], dtype=&#x27;datetime64[ns]&#x27;)</pre></div></li><li class='xr-var-item'><div class='xr-var-name'><span class='xr-has-index'>zlev</span></div><div class='xr-var-dims'>(zlev)</div><div class='xr-var-dtype'>float32</div><div class='xr-var-preview xr-preview'>10.0</div><input id='attrs-b62ed967-0868-483b-ac9d-2c39760cd7c3' class='xr-var-attrs-in' type='checkbox' ><label for='attrs-b62ed967-0868-483b-ac9d-2c39760cd7c3' title='Show/Hide attributes'><svg class='icon xr-icon-file-text2'><use xlink:href='#icon-file-text2'></use></svg></label><input id='data-cbd19e22-de93-400d-8e29-5e35cd274e96' class='xr-var-data-in' type='checkbox'><label for='data-cbd19e22-de93-400d-8e29-5e35cd274e96' title='Show/Hide data repr'><svg class='icon xr-icon-database'><use xlink:href='#icon-database'></use></svg></label><div class='xr-var-attrs'><dl class='xr-attrs'><dt><span>long_name :</span></dt><dd>height above sea level</dd><dt><span>units :</span></dt><dd>meters</dd></dl></div><div class='xr-var-data'><pre>array([10.], dtype=float32)</pre></div></li><li class='xr-var-item'><div class='xr-var-name'><span class='xr-has-index'>lat</span></div><div class='xr-var-dims'>(lat)</div><div class='xr-var-dtype'>float32</div><div class='xr-var-preview xr-preview'>-89.75 -89.5 -89.25 ... 89.5 89.75</div><input id='attrs-af7f6daf-2bb3-4f49-abed-dccaf7e435b6' class='xr-var-attrs-in' type='checkbox' ><label for='attrs-af7f6daf-2bb3-4f49-abed-dccaf7e435b6' title='Show/Hide attributes'><svg class='icon xr-icon-file-text2'><use xlink:href='#icon-file-text2'></use></svg></label><input id='data-c9f8a054-754f-42d0-9c0c-c96c3d12487e' class='xr-var-data-in' type='checkbox'><label for='data-c9f8a054-754f-42d0-9c0c-c96c3d12487e' title='Show/Hide data repr'><svg class='icon xr-icon-database'><use xlink:href='#icon-database'></use></svg></label><div class='xr-var-attrs'><dl class='xr-attrs'><dt><span>long_name :</span></dt><dd>latitude</dd><dt><span>units :</span></dt><dd>degrees_north</dd><dt><span>grids :</span></dt><dd>uniform grids from -89.75 to 89.75 by 0.25</dd></dl></div><div class='xr-var-data'><pre>array([-89.75, -89.5 , -89.25, ...,  89.25,  89.5 ,  89.75], dtype=float32)</pre></div></li><li class='xr-var-item'><div class='xr-var-name'><span class='xr-has-index'>lon</span></div><div class='xr-var-dims'>(lon)</div><div class='xr-var-dtype'>float32</div><div class='xr-var-preview xr-preview'>0.0 0.25 0.5 ... 359.2 359.5 359.8</div><input id='attrs-3c3cf0fc-8557-44ae-b5a0-38c07c1738a3' class='xr-var-attrs-in' type='checkbox' ><label for='attrs-3c3cf0fc-8557-44ae-b5a0-38c07c1738a3' title='Show/Hide attributes'><svg class='icon xr-icon-file-text2'><use xlink:href='#icon-file-text2'></use></svg></label><input id='data-c455d14d-2fbe-4358-bf24-f24365aa0379' class='xr-var-data-in' type='checkbox'><label for='data-c455d14d-2fbe-4358-bf24-f24365aa0379' title='Show/Hide data repr'><svg class='icon xr-icon-database'><use xlink:href='#icon-database'></use></svg></label><div class='xr-var-attrs'><dl class='xr-attrs'><dt><span>long_name :</span></dt><dd>longitude</dd><dt><span>units :</span></dt><dd>degrees_east</dd><dt><span>grids :</span></dt><dd>uniform grids from 0.00 to 359.75 by 0.25</dd></dl></div><div class='xr-var-data'><pre>array([0.0000e+00, 2.5000e-01, 5.0000e-01, ..., 3.5925e+02, 3.5950e+02,\n",
              "       3.5975e+02], dtype=float32)</pre></div></li></ul></div></li><li class='xr-section-item'><input id='section-8e5c21cf-6984-42cd-917f-9cbb33018d5d' class='xr-section-summary-in' type='checkbox'  checked><label for='section-8e5c21cf-6984-42cd-917f-9cbb33018d5d' class='xr-section-summary' >Data variables: <span>(3)</span></label><div class='xr-section-inline-details'></div><div class='xr-section-details'><ul class='xr-var-list'><li class='xr-var-item'><div class='xr-var-name'><span>u</span></div><div class='xr-var-dims'>(time, zlev, lat, lon)</div><div class='xr-var-dtype'>float32</div><div class='xr-var-preview xr-preview'>...</div><input id='attrs-e8af501d-8d26-47fe-8f54-ef77e7a70a8b' class='xr-var-attrs-in' type='checkbox' ><label for='attrs-e8af501d-8d26-47fe-8f54-ef77e7a70a8b' title='Show/Hide attributes'><svg class='icon xr-icon-file-text2'><use xlink:href='#icon-file-text2'></use></svg></label><input id='data-f832944c-006c-4acf-b317-8092637a2578' class='xr-var-data-in' type='checkbox'><label for='data-f832944c-006c-4acf-b317-8092637a2578' title='Show/Hide data repr'><svg class='icon xr-icon-database'><use xlink:href='#icon-database'></use></svg></label><div class='xr-var-attrs'><dl class='xr-attrs'><dt><span>long_name :</span></dt><dd>Sea Surface Wind: x-component</dd><dt><span>units :</span></dt><dd>m/s</dd></dl></div><div class='xr-var-data'><pre>[1035360 values with dtype=float32]</pre></div></li><li class='xr-var-item'><div class='xr-var-name'><span>v</span></div><div class='xr-var-dims'>(time, zlev, lat, lon)</div><div class='xr-var-dtype'>float32</div><div class='xr-var-preview xr-preview'>...</div><input id='attrs-f876387e-3710-406f-85ec-db184ff51048' class='xr-var-attrs-in' type='checkbox' ><label for='attrs-f876387e-3710-406f-85ec-db184ff51048' title='Show/Hide attributes'><svg class='icon xr-icon-file-text2'><use xlink:href='#icon-file-text2'></use></svg></label><input id='data-80291c91-faa6-4a6b-a67d-3cdf912e8736' class='xr-var-data-in' type='checkbox'><label for='data-80291c91-faa6-4a6b-a67d-3cdf912e8736' title='Show/Hide data repr'><svg class='icon xr-icon-database'><use xlink:href='#icon-database'></use></svg></label><div class='xr-var-attrs'><dl class='xr-attrs'><dt><span>long_name :</span></dt><dd>Sea Surface Wind: y-component</dd><dt><span>units :</span></dt><dd>m/s</dd></dl></div><div class='xr-var-data'><pre>[1035360 values with dtype=float32]</pre></div></li><li class='xr-var-item'><div class='xr-var-name'><span>w</span></div><div class='xr-var-dims'>(time, zlev, lat, lon)</div><div class='xr-var-dtype'>float32</div><div class='xr-var-preview xr-preview'>...</div><input id='attrs-d2ef3350-9223-45d8-892d-2bf56ebab524' class='xr-var-attrs-in' type='checkbox' ><label for='attrs-d2ef3350-9223-45d8-892d-2bf56ebab524' title='Show/Hide attributes'><svg class='icon xr-icon-file-text2'><use xlink:href='#icon-file-text2'></use></svg></label><input id='data-0d8361b9-6ded-4006-adf8-63d7e5ef6d9a' class='xr-var-data-in' type='checkbox'><label for='data-0d8361b9-6ded-4006-adf8-63d7e5ef6d9a' title='Show/Hide data repr'><svg class='icon xr-icon-database'><use xlink:href='#icon-database'></use></svg></label><div class='xr-var-attrs'><dl class='xr-attrs'><dt><span>long_name :</span></dt><dd>Sea Surface Wind: speed as scalar means</dd><dt><span>units :</span></dt><dd>m/s</dd></dl></div><div class='xr-var-data'><pre>[1035360 values with dtype=float32]</pre></div></li></ul></div></li><li class='xr-section-item'><input id='section-e4d8ae28-a189-49a7-a868-9d9e8e497103' class='xr-section-summary-in' type='checkbox'  ><label for='section-e4d8ae28-a189-49a7-a868-9d9e8e497103' class='xr-section-summary' >Attributes: <span>(12)</span></label><div class='xr-section-inline-details'></div><div class='xr-section-details'><dl class='xr-attrs'><dt><span>Conventions :</span></dt><dd>COARDS, CF-1.0, Unidata Dataset Discovery v1.0</dd><dt><span>title :</span></dt><dd>NOAA/NCDC Blended monthly 0.25-degree Sea Surface Winds</dd><dt><span>source :</span></dt><dd>Multiple satellite observations: DMSP SSMI F08, F10, F11, F13,F14 F15; TMI; QuikSCAT; AMSR-E; Direction from NCEP Reanalysis-2</dd><dt><span>summary :</span></dt><dd>Gridded and blended sea surface vector winds from multiple satellites with direction from NCEP Reanalysis-2; Global ocean coverage with a 0.25-degree resolution; The whole datasets covers from July 1987 to present, monthly resolution in this dataset; 6-hourly and daily are also available in other directories; See http://www.ncdc.noaa.gov/oa/rsad/blendedseawinds.html and links within for details. Include (u,v) means and scalar mean speed w for comparison</dd><dt><span>Keywords :</span></dt><dd>sea winds, ocean winds, sea surface winds, air-sea interaction, air-sea flux, wind-driven circulation, Ekman pumping, Ekman transport, ocean upwelling, wind stress, windstress</dd><dt><span>references :</span></dt><dd>links at http://www.ncdc.noaa.gov/oa/rsad/blendedseawinds.html</dd><dt><span>History :</span></dt><dd>Simple spatiotemporally weighted Interpolation (SI), V.1.2. Version 1.2 uses updated satellite retrievals by Remote Sensing System, released in September 2006: SSMI V06, TMI V04, QSCAT V03a. AMSRE V05 was also updated using the new SSMI rain rate</dd><dt><span>institution :</span></dt><dd>NOAA NESDIS National Climatic Data Center</dd><dt><span>Contact :</span></dt><dd>Huai-Min.Zhang AT noaa.gov or satorder AT noaa.gov;         ph:1+828-271-4090</dd><dt><span>Acknowledgment :</span></dt><dd>The gridded data were generated from the multiple satellite observations of DOD, NOAA and NASA (and future others) and wind retrievals of the Remote Sensing Systems, Inc. (http://www.remss.com), using scientific methods such as objective analysis (OA). The OA is only truly objective when the needed statistics are completely known, which may not be always the case.</dd><dt><span>Data_Calendar_Month :</span></dt><dd>2011-09</dd><dt><span>Comment :</span></dt><dd>The time in the netCDF should be the center of a calendar month, and chosen as Day 15 for all months for simplicity</dd></dl></div></li></ul></div></div>"
            ]
          },
          "metadata": {},
          "execution_count": 13
        }
      ],
      "source": [
        "xr.open_dataset('./data/uv201109.nc')"
      ]
    },
    {
      "cell_type": "code",
      "execution_count": null,
      "metadata": {
        "colab": {
          "base_uri": "https://localhost:8080/"
        },
        "id": "RWm9DL-goh90",
        "outputId": "cdd25c57-6f2c-4291-878a-8cc2607cf53c"
      },
      "outputs": [
        {
          "output_type": "stream",
          "name": "stdout",
          "text": [
            "          lat     lon       time  zlev         u         v         w\n",
            "0      -67.00  251.75 2011-09-15  10.0 -5.054535  4.214871  6.600000\n",
            "1      -67.00  252.00 2011-09-15  10.0 -5.165112  4.272970  6.722767\n",
            "2      -67.00  252.25 2011-09-15  10.0 -5.178491  4.265494  6.728320\n",
            "3      -67.00  252.50 2011-09-15  10.0 -5.191382  4.257707  6.733334\n",
            "4      -67.00  252.75 2011-09-15  10.0 -5.204234  4.249912  6.738347\n",
            "...       ...     ...        ...   ...       ...       ...       ...\n",
            "554631  82.75   58.00 2011-09-15  10.0 -0.940350  2.065869  2.280341\n",
            "554632  82.75   58.25 2011-09-15  10.0 -0.936092  2.088088  2.298294\n",
            "554633  82.75   58.50 2011-09-15  10.0 -0.883965  2.004193  2.199427\n",
            "554634  82.75   58.75 2011-09-15  10.0 -0.872314  2.008617  2.198282\n",
            "554635  82.75   59.00 2011-09-15  10.0 -0.783933  1.832076  2.000000\n",
            "\n",
            "[554636 rows x 7 columns]\n"
          ]
        }
      ],
      "source": [
        "wind_ds = xr.open_dataset('./data/uv201109.nc').to_dataframe().dropna().reset_index()\n",
        "print(wind_ds)"
      ]
    },
    {
      "cell_type": "code",
      "execution_count": null,
      "metadata": {
        "colab": {
          "base_uri": "https://localhost:8080/",
          "height": 308
        },
        "id": "3dHS40xrL7F_",
        "outputId": "250a603a-08c4-4f0a-8a2a-4231c01bdc5c"
      },
      "outputs": [
        {
          "output_type": "execute_result",
          "data": {
            "text/plain": [
              "<xarray.Dataset>\n",
              "Dimensions:  (latitude: 719, longitude: 1440, time: 1)\n",
              "Coordinates:\n",
              "    lat      (latitude) float64 ...\n",
              "    lon      (longitude) float64 ...\n",
              "  * time     (time) object 2021-12-31 00:00:00\n",
              "Dimensions without coordinates: latitude, longitude\n",
              "Data variables:\n",
              "    u        (time, longitude, latitude) float64 ...\n",
              "    v        (time, longitude, latitude) float64 ...\n",
              "    ug       (time, longitude, latitude) float64 ...\n",
              "    vg       (time, longitude, latitude) float64 ...\n",
              "Attributes: (12/36)\n",
              "    title:                      Ocean Surface Current Analyses Real-time (OSC...\n",
              "    summary:                    Global, daily, 0.25 degree geostrophic and to...\n",
              "    keywords:                   ocean currents,ocean circulation,surface curr...\n",
              "    Conventions:                CF-1.8 Standard Names v77, ACDD-1.3, netcdf 4...\n",
              "    id:                         OSCAR_L4_OC_INTERIM_V2.0\n",
              "    history:                    OSCAR 0.25 degree daily version 2.0 replaces ...\n",
              "    ...                         ...\n",
              "    geospatial_lon_max:         359.75\n",
              "    geospatial_lon_units:       degrees_east\n",
              "    geospatial_lon_resolution:  0.25 degree\n",
              "    time_coverage_start:        2021-12-31T00:00:00\n",
              "    time_coverage_end:          2021-12-31T23:59:59\n",
              "    date_created:               2022-01-17"
            ],
            "text/html": [
              "<div><svg style=\"position: absolute; width: 0; height: 0; overflow: hidden\">\n",
              "<defs>\n",
              "<symbol id=\"icon-database\" viewBox=\"0 0 32 32\">\n",
              "<path d=\"M16 0c-8.837 0-16 2.239-16 5v4c0 2.761 7.163 5 16 5s16-2.239 16-5v-4c0-2.761-7.163-5-16-5z\"></path>\n",
              "<path d=\"M16 17c-8.837 0-16-2.239-16-5v6c0 2.761 7.163 5 16 5s16-2.239 16-5v-6c0 2.761-7.163 5-16 5z\"></path>\n",
              "<path d=\"M16 26c-8.837 0-16-2.239-16-5v6c0 2.761 7.163 5 16 5s16-2.239 16-5v-6c0 2.761-7.163 5-16 5z\"></path>\n",
              "</symbol>\n",
              "<symbol id=\"icon-file-text2\" viewBox=\"0 0 32 32\">\n",
              "<path d=\"M28.681 7.159c-0.694-0.947-1.662-2.053-2.724-3.116s-2.169-2.030-3.116-2.724c-1.612-1.182-2.393-1.319-2.841-1.319h-15.5c-1.378 0-2.5 1.121-2.5 2.5v27c0 1.378 1.122 2.5 2.5 2.5h23c1.378 0 2.5-1.122 2.5-2.5v-19.5c0-0.448-0.137-1.23-1.319-2.841zM24.543 5.457c0.959 0.959 1.712 1.825 2.268 2.543h-4.811v-4.811c0.718 0.556 1.584 1.309 2.543 2.268zM28 29.5c0 0.271-0.229 0.5-0.5 0.5h-23c-0.271 0-0.5-0.229-0.5-0.5v-27c0-0.271 0.229-0.5 0.5-0.5 0 0 15.499-0 15.5 0v7c0 0.552 0.448 1 1 1h7v19.5z\"></path>\n",
              "<path d=\"M23 26h-14c-0.552 0-1-0.448-1-1s0.448-1 1-1h14c0.552 0 1 0.448 1 1s-0.448 1-1 1z\"></path>\n",
              "<path d=\"M23 22h-14c-0.552 0-1-0.448-1-1s0.448-1 1-1h14c0.552 0 1 0.448 1 1s-0.448 1-1 1z\"></path>\n",
              "<path d=\"M23 18h-14c-0.552 0-1-0.448-1-1s0.448-1 1-1h14c0.552 0 1 0.448 1 1s-0.448 1-1 1z\"></path>\n",
              "</symbol>\n",
              "</defs>\n",
              "</svg>\n",
              "<style>/* CSS stylesheet for displaying xarray objects in jupyterlab.\n",
              " *\n",
              " */\n",
              "\n",
              ":root {\n",
              "  --xr-font-color0: var(--jp-content-font-color0, rgba(0, 0, 0, 1));\n",
              "  --xr-font-color2: var(--jp-content-font-color2, rgba(0, 0, 0, 0.54));\n",
              "  --xr-font-color3: var(--jp-content-font-color3, rgba(0, 0, 0, 0.38));\n",
              "  --xr-border-color: var(--jp-border-color2, #e0e0e0);\n",
              "  --xr-disabled-color: var(--jp-layout-color3, #bdbdbd);\n",
              "  --xr-background-color: var(--jp-layout-color0, white);\n",
              "  --xr-background-color-row-even: var(--jp-layout-color1, white);\n",
              "  --xr-background-color-row-odd: var(--jp-layout-color2, #eeeeee);\n",
              "}\n",
              "\n",
              "html[theme=dark],\n",
              "body.vscode-dark {\n",
              "  --xr-font-color0: rgba(255, 255, 255, 1);\n",
              "  --xr-font-color2: rgba(255, 255, 255, 0.54);\n",
              "  --xr-font-color3: rgba(255, 255, 255, 0.38);\n",
              "  --xr-border-color: #1F1F1F;\n",
              "  --xr-disabled-color: #515151;\n",
              "  --xr-background-color: #111111;\n",
              "  --xr-background-color-row-even: #111111;\n",
              "  --xr-background-color-row-odd: #313131;\n",
              "}\n",
              "\n",
              ".xr-wrap {\n",
              "  display: block;\n",
              "  min-width: 300px;\n",
              "  max-width: 700px;\n",
              "}\n",
              "\n",
              ".xr-text-repr-fallback {\n",
              "  /* fallback to plain text repr when CSS is not injected (untrusted notebook) */\n",
              "  display: none;\n",
              "}\n",
              "\n",
              ".xr-header {\n",
              "  padding-top: 6px;\n",
              "  padding-bottom: 6px;\n",
              "  margin-bottom: 4px;\n",
              "  border-bottom: solid 1px var(--xr-border-color);\n",
              "}\n",
              "\n",
              ".xr-header > div,\n",
              ".xr-header > ul {\n",
              "  display: inline;\n",
              "  margin-top: 0;\n",
              "  margin-bottom: 0;\n",
              "}\n",
              "\n",
              ".xr-obj-type,\n",
              ".xr-array-name {\n",
              "  margin-left: 2px;\n",
              "  margin-right: 10px;\n",
              "}\n",
              "\n",
              ".xr-obj-type {\n",
              "  color: var(--xr-font-color2);\n",
              "}\n",
              "\n",
              ".xr-sections {\n",
              "  padding-left: 0 !important;\n",
              "  display: grid;\n",
              "  grid-template-columns: 150px auto auto 1fr 20px 20px;\n",
              "}\n",
              "\n",
              ".xr-section-item {\n",
              "  display: contents;\n",
              "}\n",
              "\n",
              ".xr-section-item input {\n",
              "  display: none;\n",
              "}\n",
              "\n",
              ".xr-section-item input + label {\n",
              "  color: var(--xr-disabled-color);\n",
              "}\n",
              "\n",
              ".xr-section-item input:enabled + label {\n",
              "  cursor: pointer;\n",
              "  color: var(--xr-font-color2);\n",
              "}\n",
              "\n",
              ".xr-section-item input:enabled + label:hover {\n",
              "  color: var(--xr-font-color0);\n",
              "}\n",
              "\n",
              ".xr-section-summary {\n",
              "  grid-column: 1;\n",
              "  color: var(--xr-font-color2);\n",
              "  font-weight: 500;\n",
              "}\n",
              "\n",
              ".xr-section-summary > span {\n",
              "  display: inline-block;\n",
              "  padding-left: 0.5em;\n",
              "}\n",
              "\n",
              ".xr-section-summary-in:disabled + label {\n",
              "  color: var(--xr-font-color2);\n",
              "}\n",
              "\n",
              ".xr-section-summary-in + label:before {\n",
              "  display: inline-block;\n",
              "  content: '►';\n",
              "  font-size: 11px;\n",
              "  width: 15px;\n",
              "  text-align: center;\n",
              "}\n",
              "\n",
              ".xr-section-summary-in:disabled + label:before {\n",
              "  color: var(--xr-disabled-color);\n",
              "}\n",
              "\n",
              ".xr-section-summary-in:checked + label:before {\n",
              "  content: '▼';\n",
              "}\n",
              "\n",
              ".xr-section-summary-in:checked + label > span {\n",
              "  display: none;\n",
              "}\n",
              "\n",
              ".xr-section-summary,\n",
              ".xr-section-inline-details {\n",
              "  padding-top: 4px;\n",
              "  padding-bottom: 4px;\n",
              "}\n",
              "\n",
              ".xr-section-inline-details {\n",
              "  grid-column: 2 / -1;\n",
              "}\n",
              "\n",
              ".xr-section-details {\n",
              "  display: none;\n",
              "  grid-column: 1 / -1;\n",
              "  margin-bottom: 5px;\n",
              "}\n",
              "\n",
              ".xr-section-summary-in:checked ~ .xr-section-details {\n",
              "  display: contents;\n",
              "}\n",
              "\n",
              ".xr-array-wrap {\n",
              "  grid-column: 1 / -1;\n",
              "  display: grid;\n",
              "  grid-template-columns: 20px auto;\n",
              "}\n",
              "\n",
              ".xr-array-wrap > label {\n",
              "  grid-column: 1;\n",
              "  vertical-align: top;\n",
              "}\n",
              "\n",
              ".xr-preview {\n",
              "  color: var(--xr-font-color3);\n",
              "}\n",
              "\n",
              ".xr-array-preview,\n",
              ".xr-array-data {\n",
              "  padding: 0 5px !important;\n",
              "  grid-column: 2;\n",
              "}\n",
              "\n",
              ".xr-array-data,\n",
              ".xr-array-in:checked ~ .xr-array-preview {\n",
              "  display: none;\n",
              "}\n",
              "\n",
              ".xr-array-in:checked ~ .xr-array-data,\n",
              ".xr-array-preview {\n",
              "  display: inline-block;\n",
              "}\n",
              "\n",
              ".xr-dim-list {\n",
              "  display: inline-block !important;\n",
              "  list-style: none;\n",
              "  padding: 0 !important;\n",
              "  margin: 0;\n",
              "}\n",
              "\n",
              ".xr-dim-list li {\n",
              "  display: inline-block;\n",
              "  padding: 0;\n",
              "  margin: 0;\n",
              "}\n",
              "\n",
              ".xr-dim-list:before {\n",
              "  content: '(';\n",
              "}\n",
              "\n",
              ".xr-dim-list:after {\n",
              "  content: ')';\n",
              "}\n",
              "\n",
              ".xr-dim-list li:not(:last-child):after {\n",
              "  content: ',';\n",
              "  padding-right: 5px;\n",
              "}\n",
              "\n",
              ".xr-has-index {\n",
              "  font-weight: bold;\n",
              "}\n",
              "\n",
              ".xr-var-list,\n",
              ".xr-var-item {\n",
              "  display: contents;\n",
              "}\n",
              "\n",
              ".xr-var-item > div,\n",
              ".xr-var-item label,\n",
              ".xr-var-item > .xr-var-name span {\n",
              "  background-color: var(--xr-background-color-row-even);\n",
              "  margin-bottom: 0;\n",
              "}\n",
              "\n",
              ".xr-var-item > .xr-var-name:hover span {\n",
              "  padding-right: 5px;\n",
              "}\n",
              "\n",
              ".xr-var-list > li:nth-child(odd) > div,\n",
              ".xr-var-list > li:nth-child(odd) > label,\n",
              ".xr-var-list > li:nth-child(odd) > .xr-var-name span {\n",
              "  background-color: var(--xr-background-color-row-odd);\n",
              "}\n",
              "\n",
              ".xr-var-name {\n",
              "  grid-column: 1;\n",
              "}\n",
              "\n",
              ".xr-var-dims {\n",
              "  grid-column: 2;\n",
              "}\n",
              "\n",
              ".xr-var-dtype {\n",
              "  grid-column: 3;\n",
              "  text-align: right;\n",
              "  color: var(--xr-font-color2);\n",
              "}\n",
              "\n",
              ".xr-var-preview {\n",
              "  grid-column: 4;\n",
              "}\n",
              "\n",
              ".xr-var-name,\n",
              ".xr-var-dims,\n",
              ".xr-var-dtype,\n",
              ".xr-preview,\n",
              ".xr-attrs dt {\n",
              "  white-space: nowrap;\n",
              "  overflow: hidden;\n",
              "  text-overflow: ellipsis;\n",
              "  padding-right: 10px;\n",
              "}\n",
              "\n",
              ".xr-var-name:hover,\n",
              ".xr-var-dims:hover,\n",
              ".xr-var-dtype:hover,\n",
              ".xr-attrs dt:hover {\n",
              "  overflow: visible;\n",
              "  width: auto;\n",
              "  z-index: 1;\n",
              "}\n",
              "\n",
              ".xr-var-attrs,\n",
              ".xr-var-data {\n",
              "  display: none;\n",
              "  background-color: var(--xr-background-color) !important;\n",
              "  padding-bottom: 5px !important;\n",
              "}\n",
              "\n",
              ".xr-var-attrs-in:checked ~ .xr-var-attrs,\n",
              ".xr-var-data-in:checked ~ .xr-var-data {\n",
              "  display: block;\n",
              "}\n",
              "\n",
              ".xr-var-data > table {\n",
              "  float: right;\n",
              "}\n",
              "\n",
              ".xr-var-name span,\n",
              ".xr-var-data,\n",
              ".xr-attrs {\n",
              "  padding-left: 25px !important;\n",
              "}\n",
              "\n",
              ".xr-attrs,\n",
              ".xr-var-attrs,\n",
              ".xr-var-data {\n",
              "  grid-column: 1 / -1;\n",
              "}\n",
              "\n",
              "dl.xr-attrs {\n",
              "  padding: 0;\n",
              "  margin: 0;\n",
              "  display: grid;\n",
              "  grid-template-columns: 125px auto;\n",
              "}\n",
              "\n",
              ".xr-attrs dt,\n",
              ".xr-attrs dd {\n",
              "  padding: 0;\n",
              "  margin: 0;\n",
              "  float: left;\n",
              "  padding-right: 10px;\n",
              "  width: auto;\n",
              "}\n",
              "\n",
              ".xr-attrs dt {\n",
              "  font-weight: normal;\n",
              "  grid-column: 1;\n",
              "}\n",
              "\n",
              ".xr-attrs dt:hover span {\n",
              "  display: inline-block;\n",
              "  background: var(--xr-background-color);\n",
              "  padding-right: 10px;\n",
              "}\n",
              "\n",
              ".xr-attrs dd {\n",
              "  grid-column: 2;\n",
              "  white-space: pre-wrap;\n",
              "  word-break: break-all;\n",
              "}\n",
              "\n",
              ".xr-icon-database,\n",
              ".xr-icon-file-text2 {\n",
              "  display: inline-block;\n",
              "  vertical-align: middle;\n",
              "  width: 1em;\n",
              "  height: 1.5em !important;\n",
              "  stroke-width: 0;\n",
              "  stroke: currentColor;\n",
              "  fill: currentColor;\n",
              "}\n",
              "</style><pre class='xr-text-repr-fallback'>&lt;xarray.Dataset&gt;\n",
              "Dimensions:  (latitude: 719, longitude: 1440, time: 1)\n",
              "Coordinates:\n",
              "    lat      (latitude) float64 -89.75 -89.5 -89.25 -89.0 ... 89.25 89.5 89.75\n",
              "    lon      (longitude) float64 0.0 0.25 0.5 0.75 ... 359.0 359.2 359.5 359.8\n",
              "  * time     (time) object 2021-12-31 00:00:00\n",
              "Dimensions without coordinates: latitude, longitude\n",
              "Data variables:\n",
              "    u        (time, longitude, latitude) float64 ...\n",
              "    v        (time, longitude, latitude) float64 ...\n",
              "    ug       (time, longitude, latitude) float64 ...\n",
              "    vg       (time, longitude, latitude) float64 ...\n",
              "Attributes: (12/36)\n",
              "    title:                      Ocean Surface Current Analyses Real-time (OSC...\n",
              "    summary:                    Global, daily, 0.25 degree geostrophic and to...\n",
              "    keywords:                   ocean currents,ocean circulation,surface curr...\n",
              "    Conventions:                CF-1.8 Standard Names v77, ACDD-1.3, netcdf 4...\n",
              "    id:                         OSCAR_L4_OC_INTERIM_V2.0\n",
              "    history:                    OSCAR 0.25 degree daily version 2.0 replaces ...\n",
              "    ...                         ...\n",
              "    geospatial_lon_max:         359.75\n",
              "    geospatial_lon_units:       degrees_east\n",
              "    geospatial_lon_resolution:  0.25 degree\n",
              "    time_coverage_start:        2021-12-31T00:00:00\n",
              "    time_coverage_end:          2021-12-31T23:59:59\n",
              "    date_created:               2022-01-17</pre><div class='xr-wrap' hidden><div class='xr-header'><div class='xr-obj-type'>xarray.Dataset</div></div><ul class='xr-sections'><li class='xr-section-item'><input id='section-c0332c77-0e29-4650-ac55-8f7c7459f617' class='xr-section-summary-in' type='checkbox' disabled ><label for='section-c0332c77-0e29-4650-ac55-8f7c7459f617' class='xr-section-summary'  title='Expand/collapse section'>Dimensions:</label><div class='xr-section-inline-details'><ul class='xr-dim-list'><li><span>latitude</span>: 719</li><li><span>longitude</span>: 1440</li><li><span class='xr-has-index'>time</span>: 1</li></ul></div><div class='xr-section-details'></div></li><li class='xr-section-item'><input id='section-b7721b2d-cc05-45e9-b291-c89e2815b0c4' class='xr-section-summary-in' type='checkbox'  checked><label for='section-b7721b2d-cc05-45e9-b291-c89e2815b0c4' class='xr-section-summary' >Coordinates: <span>(3)</span></label><div class='xr-section-inline-details'></div><div class='xr-section-details'><ul class='xr-var-list'><li class='xr-var-item'><div class='xr-var-name'><span>lat</span></div><div class='xr-var-dims'>(latitude)</div><div class='xr-var-dtype'>float64</div><div class='xr-var-preview xr-preview'>...</div><input id='attrs-2c2e0f8a-caf2-43a4-b86a-a10bad3d52eb' class='xr-var-attrs-in' type='checkbox' ><label for='attrs-2c2e0f8a-caf2-43a4-b86a-a10bad3d52eb' title='Show/Hide attributes'><svg class='icon xr-icon-file-text2'><use xlink:href='#icon-file-text2'></use></svg></label><input id='data-2ca7b1e9-b605-4e5d-a3b5-5d273e7db49e' class='xr-var-data-in' type='checkbox'><label for='data-2ca7b1e9-b605-4e5d-a3b5-5d273e7db49e' title='Show/Hide data repr'><svg class='icon xr-icon-database'><use xlink:href='#icon-database'></use></svg></label><div class='xr-var-attrs'><dl class='xr-attrs'><dt><span>long_name :</span></dt><dd>latitude</dd><dt><span>standard_name :</span></dt><dd>latitude</dd><dt><span>units :</span></dt><dd>degrees_north</dd><dt><span>axis :</span></dt><dd>Y</dd><dt><span>valid_min :</span></dt><dd>-89.75</dd><dt><span>valid_max :</span></dt><dd>89.75</dd><dt><span>bounds :</span></dt><dd>[-89.75,89.75]</dd></dl></div><div class='xr-var-data'><pre>array([-89.75, -89.5 , -89.25, ...,  89.25,  89.5 ,  89.75])</pre></div></li><li class='xr-var-item'><div class='xr-var-name'><span>lon</span></div><div class='xr-var-dims'>(longitude)</div><div class='xr-var-dtype'>float64</div><div class='xr-var-preview xr-preview'>...</div><input id='attrs-de77b1c9-91bd-416a-9427-92fd09340f54' class='xr-var-attrs-in' type='checkbox' ><label for='attrs-de77b1c9-91bd-416a-9427-92fd09340f54' title='Show/Hide attributes'><svg class='icon xr-icon-file-text2'><use xlink:href='#icon-file-text2'></use></svg></label><input id='data-d6823812-256c-43bc-8880-1020f91bf94b' class='xr-var-data-in' type='checkbox'><label for='data-d6823812-256c-43bc-8880-1020f91bf94b' title='Show/Hide data repr'><svg class='icon xr-icon-database'><use xlink:href='#icon-database'></use></svg></label><div class='xr-var-attrs'><dl class='xr-attrs'><dt><span>long_name :</span></dt><dd>longitude</dd><dt><span>standard_name :</span></dt><dd>longitude</dd><dt><span>units :</span></dt><dd>degrees_east</dd><dt><span>axis :</span></dt><dd>X</dd><dt><span>valid_min :</span></dt><dd>0.0</dd><dt><span>valid_max :</span></dt><dd>359.75</dd><dt><span>bounds :</span></dt><dd>[0,359.75]</dd></dl></div><div class='xr-var-data'><pre>array([0.0000e+00, 2.5000e-01, 5.0000e-01, ..., 3.5925e+02, 3.5950e+02,\n",
              "       3.5975e+02])</pre></div></li><li class='xr-var-item'><div class='xr-var-name'><span class='xr-has-index'>time</span></div><div class='xr-var-dims'>(time)</div><div class='xr-var-dtype'>object</div><div class='xr-var-preview xr-preview'>2021-12-31 00:00:00</div><input id='attrs-19a20750-d1c5-41a2-8ec3-7f579ca5cd08' class='xr-var-attrs-in' type='checkbox' ><label for='attrs-19a20750-d1c5-41a2-8ec3-7f579ca5cd08' title='Show/Hide attributes'><svg class='icon xr-icon-file-text2'><use xlink:href='#icon-file-text2'></use></svg></label><input id='data-70720177-da59-43ca-bab7-a65e8fe37829' class='xr-var-data-in' type='checkbox'><label for='data-70720177-da59-43ca-bab7-a65e8fe37829' title='Show/Hide data repr'><svg class='icon xr-icon-database'><use xlink:href='#icon-database'></use></svg></label><div class='xr-var-attrs'><dl class='xr-attrs'><dt><span>long_name :</span></dt><dd>time centered on the day</dd><dt><span>standard_name :</span></dt><dd>time</dd><dt><span>axis :</span></dt><dd>T</dd><dt><span>time_bounds :</span></dt><dd>2021-12-31 00:00:00 to 2021-12-31 23:59:59</dd><dt><span>comment :</span></dt><dd>Data is averaged over the day</dd></dl></div><div class='xr-var-data'><pre>array([cftime.DatetimeJulian(2021, 12, 31, 0, 0, 0, 0, has_year_zero=False)],\n",
              "      dtype=object)</pre></div></li></ul></div></li><li class='xr-section-item'><input id='section-05cb923c-b4fb-4bb5-b781-559ecdbc5959' class='xr-section-summary-in' type='checkbox'  checked><label for='section-05cb923c-b4fb-4bb5-b781-559ecdbc5959' class='xr-section-summary' >Data variables: <span>(4)</span></label><div class='xr-section-inline-details'></div><div class='xr-section-details'><ul class='xr-var-list'><li class='xr-var-item'><div class='xr-var-name'><span>u</span></div><div class='xr-var-dims'>(time, longitude, latitude)</div><div class='xr-var-dtype'>float64</div><div class='xr-var-preview xr-preview'>...</div><input id='attrs-4ffb57f9-1eeb-41e9-8342-b38be432a683' class='xr-var-attrs-in' type='checkbox' ><label for='attrs-4ffb57f9-1eeb-41e9-8342-b38be432a683' title='Show/Hide attributes'><svg class='icon xr-icon-file-text2'><use xlink:href='#icon-file-text2'></use></svg></label><input id='data-5d031a3b-c5fb-4b4b-8a11-50230bd91a70' class='xr-var-data-in' type='checkbox'><label for='data-5d031a3b-c5fb-4b4b-8a11-50230bd91a70' title='Show/Hide data repr'><svg class='icon xr-icon-database'><use xlink:href='#icon-database'></use></svg></label><div class='xr-var-attrs'><dl class='xr-attrs'><dt><span>long_name :</span></dt><dd>zonal total surface current</dd><dt><span>standard_name :</span></dt><dd>eastward_sea_water_velocity</dd><dt><span>units :</span></dt><dd>m s-1</dd><dt><span>coverage_content_type :</span></dt><dd>modelResult</dd><dt><span>valid_min :</span></dt><dd>-3.0</dd><dt><span>valid_max :</span></dt><dd>3.0</dd><dt><span>depth :</span></dt><dd>15m</dd><dt><span>comment :</span></dt><dd>Velocities are an average over the top 30m of the mixed layer</dd><dt><span>source :</span></dt><dd>SSH source: CMEMS SSALTO/DUACS SEALEVEL_GLO_PHY_L4_NRT_OBSERVATIONS_008_046 DOI: 10.48670/moi-00149 ; WIND source: ECMWF ERA5 10m wind DOI: 10.24381/cds.adbb2d47 ; SST source: CMC 0.1 deg SST V3.0 DOI: 10.5067/GHCMC-4FM03</dd></dl></div><div class='xr-var-data'><pre>[1035360 values with dtype=float64]</pre></div></li><li class='xr-var-item'><div class='xr-var-name'><span>v</span></div><div class='xr-var-dims'>(time, longitude, latitude)</div><div class='xr-var-dtype'>float64</div><div class='xr-var-preview xr-preview'>...</div><input id='attrs-97f8ed96-637c-457e-946d-15648bb06f72' class='xr-var-attrs-in' type='checkbox' ><label for='attrs-97f8ed96-637c-457e-946d-15648bb06f72' title='Show/Hide attributes'><svg class='icon xr-icon-file-text2'><use xlink:href='#icon-file-text2'></use></svg></label><input id='data-e4413f41-cc4d-4d85-8ea6-3d570b8151f5' class='xr-var-data-in' type='checkbox'><label for='data-e4413f41-cc4d-4d85-8ea6-3d570b8151f5' title='Show/Hide data repr'><svg class='icon xr-icon-database'><use xlink:href='#icon-database'></use></svg></label><div class='xr-var-attrs'><dl class='xr-attrs'><dt><span>long_name :</span></dt><dd>meridional total surface current</dd><dt><span>standard_name :</span></dt><dd>northward_sea_water_velocity</dd><dt><span>units :</span></dt><dd>m s-1</dd><dt><span>coverage_content_type :</span></dt><dd>modelResult</dd><dt><span>valid_min :</span></dt><dd>-3.0</dd><dt><span>valid_max :</span></dt><dd>3.0</dd><dt><span>depth :</span></dt><dd>15m</dd><dt><span>comment :</span></dt><dd>Velocities are an average over the top 30m of the mixed layer</dd><dt><span>source :</span></dt><dd>SSH source: CMEMS SSALTO/DUACS SEALEVEL_GLO_PHY_L4_NRT_OBSERVATIONS_008_046 DOI: 10.48670/moi-00149 ; WIND source: ECMWF ERA5 10m wind DOI: 10.24381/cds.adbb2d47 ; SST source: CMC 0.1 deg SST V3.0 DOI: 10.5067/GHCMC-4FM03</dd></dl></div><div class='xr-var-data'><pre>[1035360 values with dtype=float64]</pre></div></li><li class='xr-var-item'><div class='xr-var-name'><span>ug</span></div><div class='xr-var-dims'>(time, longitude, latitude)</div><div class='xr-var-dtype'>float64</div><div class='xr-var-preview xr-preview'>...</div><input id='attrs-4e1918fd-baf1-44f9-8253-a30dd6aae015' class='xr-var-attrs-in' type='checkbox' ><label for='attrs-4e1918fd-baf1-44f9-8253-a30dd6aae015' title='Show/Hide attributes'><svg class='icon xr-icon-file-text2'><use xlink:href='#icon-file-text2'></use></svg></label><input id='data-478c6ebe-5bb5-4a9e-9a8f-3b21b2113929' class='xr-var-data-in' type='checkbox'><label for='data-478c6ebe-5bb5-4a9e-9a8f-3b21b2113929' title='Show/Hide data repr'><svg class='icon xr-icon-database'><use xlink:href='#icon-database'></use></svg></label><div class='xr-var-attrs'><dl class='xr-attrs'><dt><span>long_name :</span></dt><dd>zonal geostrophic surface current</dd><dt><span>standard_name :</span></dt><dd>geostrophic_eastward_sea_water_velocity</dd><dt><span>units :</span></dt><dd>m s-1</dd><dt><span>valid_min :</span></dt><dd>-3.0</dd><dt><span>valid_max :</span></dt><dd>3.0</dd><dt><span>depth :</span></dt><dd>15m</dd><dt><span>comment :</span></dt><dd>Geostrophic velocities calculated from absolute dynamic topography</dd><dt><span>source :</span></dt><dd>SSH source: CMEMS SSALTO/DUACS SEALEVEL_GLO_PHY_L4_NRT_OBSERVATIONS_008_046 DOI: 10.48670/moi-00149</dd></dl></div><div class='xr-var-data'><pre>[1035360 values with dtype=float64]</pre></div></li><li class='xr-var-item'><div class='xr-var-name'><span>vg</span></div><div class='xr-var-dims'>(time, longitude, latitude)</div><div class='xr-var-dtype'>float64</div><div class='xr-var-preview xr-preview'>...</div><input id='attrs-88bddfd6-42ca-4a87-bfeb-0ad89a0d3afb' class='xr-var-attrs-in' type='checkbox' ><label for='attrs-88bddfd6-42ca-4a87-bfeb-0ad89a0d3afb' title='Show/Hide attributes'><svg class='icon xr-icon-file-text2'><use xlink:href='#icon-file-text2'></use></svg></label><input id='data-b7a8d5be-d1ae-4bbd-b81c-ccc8ecb523db' class='xr-var-data-in' type='checkbox'><label for='data-b7a8d5be-d1ae-4bbd-b81c-ccc8ecb523db' title='Show/Hide data repr'><svg class='icon xr-icon-database'><use xlink:href='#icon-database'></use></svg></label><div class='xr-var-attrs'><dl class='xr-attrs'><dt><span>long_name :</span></dt><dd>meridional geostrophic surface current</dd><dt><span>standard_name :</span></dt><dd>geostrophic_northward_sea_water_velocity</dd><dt><span>units :</span></dt><dd>m s-1</dd><dt><span>valid_min :</span></dt><dd>-3.0</dd><dt><span>valid_max :</span></dt><dd>3.0</dd><dt><span>depth :</span></dt><dd>15m</dd><dt><span>comment :</span></dt><dd>Geostrophic velocities calculated from absolute dynamic topography</dd><dt><span>source :</span></dt><dd>SSH source: CMEMS SSALTO/DUACS SEALEVEL_GLO_PHY_L4_NRT_OBSERVATIONS_008_046 DOI: 10.48670/moi-00149</dd></dl></div><div class='xr-var-data'><pre>[1035360 values with dtype=float64]</pre></div></li></ul></div></li><li class='xr-section-item'><input id='section-3b96f7e0-4b2e-474a-94ee-210c051149f5' class='xr-section-summary-in' type='checkbox'  ><label for='section-3b96f7e0-4b2e-474a-94ee-210c051149f5' class='xr-section-summary' >Attributes: <span>(36)</span></label><div class='xr-section-inline-details'></div><div class='xr-section-details'><dl class='xr-attrs'><dt><span>title :</span></dt><dd>Ocean Surface Current Analyses Real-time (OSCAR) Surface Currents - Interim 0.25 Degree (Version 2.0)</dd><dt><span>summary :</span></dt><dd>Global, daily, 0.25 degree geostrophic and total mixed layer currents averaged over the top 30m. Higher quality than NRT currents, but lower quality than final currents.</dd><dt><span>keywords :</span></dt><dd>ocean currents,ocean circulation,surface currents,ekman,geostrophic</dd><dt><span>Conventions :</span></dt><dd>CF-1.8 Standard Names v77, ACDD-1.3, netcdf 4.7.3, hdf5 1.8.12</dd><dt><span>id :</span></dt><dd>OSCAR_L4_OC_INTERIM_V2.0</dd><dt><span>history :</span></dt><dd>OSCAR 0.25 degree daily version 2.0 replaces OSCAR third degree 5 day</dd><dt><span>source :</span></dt><dd>OSCAR is based on simplified physics using satellite data; SSH source: CMEMS SSALTO/DUACS SEALEVEL_GLO_PHY_L4_NRT_OBSERVATIONS_008_046 DOI: 10.48670/moi-00149 ; WIND source: ECMWF ERA5 10m wind DOI: 10.24381/cds.adbb2d47 ; SST source: CMC 0.1 deg SST V3.0 DOI: 10.5067/GHCMC-4FM03</dd><dt><span>processing_level :</span></dt><dd>L4</dd><dt><span>standard_name_vocabulary :</span></dt><dd>NetCDF Climate and Forecast (CF) Metadata Convention</dd><dt><span>acknowledgment :</span></dt><dd>OSCAR products are supported by NASA and may be freely distributed.</dd><dt><span>product_version :</span></dt><dd>v2.0</dd><dt><span>creator_name :</span></dt><dd>Kathleen Dohan</dd><dt><span>creator_email :</span></dt><dd>kdohan@esr.org</dd><dt><span>creator_url :</span></dt><dd>www.esr.org/research/oscar/</dd><dt><span>creator_type :</span></dt><dd>person</dd><dt><span>creator_institution :</span></dt><dd>ESR</dd><dt><span>institution :</span></dt><dd>Earth &amp; Space Research</dd><dt><span>references :</span></dt><dd>www.esr.org/research/oscar/, PO.DAAC user guide, DOI: 10.5067/OSCAR-25I20</dd><dt><span>project :</span></dt><dd>Ocean Surface Current Analyses Real-time (OSCAR)</dd><dt><span>program :</span></dt><dd>OSCAR</dd><dt><span>publisher_name :</span></dt><dd>NASA Physical Oceanography Distributed Active Archive Center (PO.DAAC)</dd><dt><span>publisher_email :</span></dt><dd>podaac@podaac.jpl.nasa.gov</dd><dt><span>publisher_url :</span></dt><dd>podaac.jpl.nasa.gov</dd><dt><span>publisher_type :</span></dt><dd>institution</dd><dt><span>publisher_institution :</span></dt><dd>PO.DAAC</dd><dt><span>geospatial_lat_min :</span></dt><dd>-89.75</dd><dt><span>geospatial_lat_max :</span></dt><dd>89.75</dd><dt><span>geospatial_lat_units :</span></dt><dd>degrees_north</dd><dt><span>geospatial_lat_resolution :</span></dt><dd>0.25 degree</dd><dt><span>geospatial_lon_min :</span></dt><dd>0.0</dd><dt><span>geospatial_lon_max :</span></dt><dd>359.75</dd><dt><span>geospatial_lon_units :</span></dt><dd>degrees_east</dd><dt><span>geospatial_lon_resolution :</span></dt><dd>0.25 degree</dd><dt><span>time_coverage_start :</span></dt><dd>2021-12-31T00:00:00</dd><dt><span>time_coverage_end :</span></dt><dd>2021-12-31T23:59:59</dd><dt><span>date_created :</span></dt><dd>2022-01-17</dd></dl></div></li></ul></div></div>"
            ]
          },
          "metadata": {},
          "execution_count": 15
        }
      ],
      "source": [
        "xr.open_dataset('./data/oscar_currents_interim_20211231.nc')"
      ]
    },
    {
      "cell_type": "code",
      "execution_count": null,
      "metadata": {
        "id": "2yGE9sGNLTTo",
        "colab": {
          "base_uri": "https://localhost:8080/"
        },
        "outputId": "631e8931-fb8f-4344-be7d-acec7a98d330"
      },
      "outputs": [
        {
          "output_type": "stream",
          "name": "stdout",
          "text": [
            "                                          lat     lon         u         v  \\\n",
            "latitude longitude time                                                     \n",
            "46       783       2021-12-31 00:00:00 -78.25  195.75 -0.064467 -0.010470   \n",
            "         784       2021-12-31 00:00:00 -78.25  196.00 -0.053568  0.006643   \n",
            "47       746       2021-12-31 00:00:00 -78.00  186.50 -0.044589 -0.069110   \n",
            "         747       2021-12-31 00:00:00 -78.00  186.75 -0.047297 -0.063138   \n",
            "         748       2021-12-31 00:00:00 -78.00  187.00 -0.050756 -0.070046   \n",
            "\n",
            "                                              ug        vg  \n",
            "latitude longitude time                                     \n",
            "46       783       2021-12-31 00:00:00 -0.056231 -0.006073  \n",
            "         784       2021-12-31 00:00:00 -0.045923  0.012826  \n",
            "47       746       2021-12-31 00:00:00 -0.023848 -0.067776  \n",
            "         747       2021-12-31 00:00:00 -0.026721 -0.064296  \n",
            "         748       2021-12-31 00:00:00 -0.029439 -0.074936  \n"
          ]
        }
      ],
      "source": [
        "current_ds = xr.open_dataset('data/oscar_currents_interim_20211231.nc').to_dataframe().dropna()\n",
        "print(current_ds.head())"
      ]
    },
    {
      "cell_type": "code",
      "execution_count": null,
      "metadata": {
        "id": "0L6rdMfw2RnQ",
        "colab": {
          "base_uri": "https://localhost:8080/"
        },
        "outputId": "c0348eb3-1823-434b-df01-4fc74db559f9"
      },
      "outputs": [
        {
          "output_type": "execute_result",
          "data": {
            "text/plain": [
              "3520518"
            ]
          },
          "metadata": {},
          "execution_count": 17
        }
      ],
      "source": [
        "current_ds.size"
      ]
    },
    {
      "cell_type": "markdown",
      "metadata": {
        "id": "E6e-vYaCl89A"
      },
      "source": [
        "## Regridding"
      ]
    },
    {
      "cell_type": "markdown",
      "source": [
        "### Create GeoDataFrames"
      ],
      "metadata": {
        "id": "vy6n5SNDVlfI"
      }
    },
    {
      "cell_type": "code",
      "execution_count": null,
      "metadata": {
        "id": "lPVy4xqGXWgd"
      },
      "outputs": [],
      "source": [
        "current_gdf = geopandas.GeoDataFrame(current_ds, geometry=geopandas.points_from_xy(current_ds.lon, current_ds.lat))\n",
        "current_gdf = current_gdf.drop(columns=['lat', 'lon'])\n",
        "\n",
        "wind_gdf = geopandas.GeoDataFrame(wind_ds, geometry=geopandas.points_from_xy(wind_ds.lon, wind_ds.lat))\n",
        "wind_gdf = wind_gdf.drop(columns=['lat', 'lon'])"
      ]
    },
    {
      "cell_type": "markdown",
      "metadata": {
        "id": "_4AtAJV4CLsa"
      },
      "source": [
        "#### Documentation\n",
        "https://www.shanelynn.ie/summarising-aggregation-and-grouping-data-in-python-pandas/\n",
        "https://pandas.pydata.org/docs/reference/api/pandas.core.groupby.DataFrameGroupBy.cov.html\n",
        "https://stats.stackexchange.com/questions/120179/generating-data-with-a-given-sample-covariance-matrix\n"
      ]
    },
    {
      "cell_type": "code",
      "execution_count": null,
      "metadata": {
        "id": "9u9KpNkolAtZ"
      },
      "outputs": [],
      "source": [
        "def grid_data(gdf: geopandas.GeoDataFrame, scale: tuple, dim: tuple, aggfunc='mean'):\n",
        "  \"\"\"\n",
        "  Args: \n",
        "    gdf: GeoPandas Dataframe to be gridded \n",
        "    scale: 2-tuple with the size of cells in x,y directions (degrees)\n",
        "    dim: Total dimensions being considered\n",
        "\n",
        "  Returns:\n",
        "    cell: New gdf with average gridding applied\n",
        "  \"\"\"\n",
        "  # Create cells\n",
        "  \n",
        "  # Properties of the grid: \n",
        "  if dim is not None:\n",
        "    xmin, ymin, xmax, ymax = dim\n",
        "  else:\n",
        "    xmin, ymin, xmax, ymax = gdf.total_bounds\n",
        "  \n",
        "  x_cell_size = scale[0]\n",
        "  y_cell_size = scale[1]\n",
        "\n",
        "  print(x_cell_size, \"x size \", y_cell_size, \"y size\")\n",
        "\n",
        "  # Iterate over all cells and create bounding box\n",
        "  grid_cells = []\n",
        "  for x0 in np.arange(xmin, xmax, x_cell_size):\n",
        "    for y0 in np.arange(ymin, ymax, y_cell_size):\n",
        "      x1 = x0+x_cell_size\n",
        "      y1 = y0+y_cell_size\n",
        "      grid_cells.append(shapely.geometry.box(x0,y0,x1,y1))\n",
        "\n",
        "  print(len(grid_cells), \"cells created\")\n",
        "\n",
        "  # Collect all boxes into geodataframe\n",
        "  cell=geopandas.GeoDataFrame(grid_cells, columns=['geometry'])\n",
        "\n",
        "  # Dissolve data into cells by averaging\n",
        "  merged = geopandas.sjoin(gdf, cell, how='left', op='within')\n",
        "  dissolve = merged.dissolve(by='index_right', aggfunc=aggfunc)\n",
        "  \n",
        "  # Transfer data to cells\n",
        "  for column, data in dissolve.iteritems():\n",
        "    if column != \"geometry\":\n",
        "      cell.loc[dissolve.index, column] = data.values\n",
        "  return cell"
      ]
    },
    {
      "cell_type": "code",
      "execution_count": null,
      "metadata": {
        "id": "nhrSND1A8j6D",
        "colab": {
          "base_uri": "https://localhost:8080/",
          "height": 238
        },
        "outputId": "8346e019-5b32-49ca-f9db-8a17f0e0d493"
      },
      "outputs": [
        {
          "output_type": "execute_result",
          "data": {
            "text/plain": [
              "                                               u         v        ug  \\\n",
              "latitude longitude time                                                \n",
              "46       783       2021-12-31 00:00:00 -0.064467 -0.010470 -0.056231   \n",
              "         784       2021-12-31 00:00:00 -0.053568  0.006643 -0.045923   \n",
              "47       746       2021-12-31 00:00:00 -0.044589 -0.069110 -0.023848   \n",
              "         747       2021-12-31 00:00:00 -0.047297 -0.063138 -0.026721   \n",
              "         748       2021-12-31 00:00:00 -0.050756 -0.070046 -0.029439   \n",
              "\n",
              "                                              vg                 geometry  \n",
              "latitude longitude time                                                    \n",
              "46       783       2021-12-31 00:00:00 -0.006073  POINT (195.750 -78.250)  \n",
              "         784       2021-12-31 00:00:00  0.012826  POINT (196.000 -78.250)  \n",
              "47       746       2021-12-31 00:00:00 -0.067776  POINT (186.500 -78.000)  \n",
              "         747       2021-12-31 00:00:00 -0.064296  POINT (186.750 -78.000)  \n",
              "         748       2021-12-31 00:00:00 -0.074936  POINT (187.000 -78.000)  "
            ],
            "text/html": [
              "\n",
              "  <div id=\"df-0df8bbf4-18c6-49b2-b916-8fc704c974df\">\n",
              "    <div class=\"colab-df-container\">\n",
              "      <div>\n",
              "<style scoped>\n",
              "    .dataframe tbody tr th:only-of-type {\n",
              "        vertical-align: middle;\n",
              "    }\n",
              "\n",
              "    .dataframe tbody tr th {\n",
              "        vertical-align: top;\n",
              "    }\n",
              "\n",
              "    .dataframe thead th {\n",
              "        text-align: right;\n",
              "    }\n",
              "</style>\n",
              "<table border=\"1\" class=\"dataframe\">\n",
              "  <thead>\n",
              "    <tr style=\"text-align: right;\">\n",
              "      <th></th>\n",
              "      <th></th>\n",
              "      <th></th>\n",
              "      <th>u</th>\n",
              "      <th>v</th>\n",
              "      <th>ug</th>\n",
              "      <th>vg</th>\n",
              "      <th>geometry</th>\n",
              "    </tr>\n",
              "    <tr>\n",
              "      <th>latitude</th>\n",
              "      <th>longitude</th>\n",
              "      <th>time</th>\n",
              "      <th></th>\n",
              "      <th></th>\n",
              "      <th></th>\n",
              "      <th></th>\n",
              "      <th></th>\n",
              "    </tr>\n",
              "  </thead>\n",
              "  <tbody>\n",
              "    <tr>\n",
              "      <th rowspan=\"2\" valign=\"top\">46</th>\n",
              "      <th>783</th>\n",
              "      <th>2021-12-31 00:00:00</th>\n",
              "      <td>-0.064467</td>\n",
              "      <td>-0.010470</td>\n",
              "      <td>-0.056231</td>\n",
              "      <td>-0.006073</td>\n",
              "      <td>POINT (195.750 -78.250)</td>\n",
              "    </tr>\n",
              "    <tr>\n",
              "      <th>784</th>\n",
              "      <th>2021-12-31 00:00:00</th>\n",
              "      <td>-0.053568</td>\n",
              "      <td>0.006643</td>\n",
              "      <td>-0.045923</td>\n",
              "      <td>0.012826</td>\n",
              "      <td>POINT (196.000 -78.250)</td>\n",
              "    </tr>\n",
              "    <tr>\n",
              "      <th rowspan=\"3\" valign=\"top\">47</th>\n",
              "      <th>746</th>\n",
              "      <th>2021-12-31 00:00:00</th>\n",
              "      <td>-0.044589</td>\n",
              "      <td>-0.069110</td>\n",
              "      <td>-0.023848</td>\n",
              "      <td>-0.067776</td>\n",
              "      <td>POINT (186.500 -78.000)</td>\n",
              "    </tr>\n",
              "    <tr>\n",
              "      <th>747</th>\n",
              "      <th>2021-12-31 00:00:00</th>\n",
              "      <td>-0.047297</td>\n",
              "      <td>-0.063138</td>\n",
              "      <td>-0.026721</td>\n",
              "      <td>-0.064296</td>\n",
              "      <td>POINT (186.750 -78.000)</td>\n",
              "    </tr>\n",
              "    <tr>\n",
              "      <th>748</th>\n",
              "      <th>2021-12-31 00:00:00</th>\n",
              "      <td>-0.050756</td>\n",
              "      <td>-0.070046</td>\n",
              "      <td>-0.029439</td>\n",
              "      <td>-0.074936</td>\n",
              "      <td>POINT (187.000 -78.000)</td>\n",
              "    </tr>\n",
              "  </tbody>\n",
              "</table>\n",
              "</div>\n",
              "      <button class=\"colab-df-convert\" onclick=\"convertToInteractive('df-0df8bbf4-18c6-49b2-b916-8fc704c974df')\"\n",
              "              title=\"Convert this dataframe to an interactive table.\"\n",
              "              style=\"display:none;\">\n",
              "        \n",
              "  <svg xmlns=\"http://www.w3.org/2000/svg\" height=\"24px\"viewBox=\"0 0 24 24\"\n",
              "       width=\"24px\">\n",
              "    <path d=\"M0 0h24v24H0V0z\" fill=\"none\"/>\n",
              "    <path d=\"M18.56 5.44l.94 2.06.94-2.06 2.06-.94-2.06-.94-.94-2.06-.94 2.06-2.06.94zm-11 1L8.5 8.5l.94-2.06 2.06-.94-2.06-.94L8.5 2.5l-.94 2.06-2.06.94zm10 10l.94 2.06.94-2.06 2.06-.94-2.06-.94-.94-2.06-.94 2.06-2.06.94z\"/><path d=\"M17.41 7.96l-1.37-1.37c-.4-.4-.92-.59-1.43-.59-.52 0-1.04.2-1.43.59L10.3 9.45l-7.72 7.72c-.78.78-.78 2.05 0 2.83L4 21.41c.39.39.9.59 1.41.59.51 0 1.02-.2 1.41-.59l7.78-7.78 2.81-2.81c.8-.78.8-2.07 0-2.86zM5.41 20L4 18.59l7.72-7.72 1.47 1.35L5.41 20z\"/>\n",
              "  </svg>\n",
              "      </button>\n",
              "      \n",
              "  <style>\n",
              "    .colab-df-container {\n",
              "      display:flex;\n",
              "      flex-wrap:wrap;\n",
              "      gap: 12px;\n",
              "    }\n",
              "\n",
              "    .colab-df-convert {\n",
              "      background-color: #E8F0FE;\n",
              "      border: none;\n",
              "      border-radius: 50%;\n",
              "      cursor: pointer;\n",
              "      display: none;\n",
              "      fill: #1967D2;\n",
              "      height: 32px;\n",
              "      padding: 0 0 0 0;\n",
              "      width: 32px;\n",
              "    }\n",
              "\n",
              "    .colab-df-convert:hover {\n",
              "      background-color: #E2EBFA;\n",
              "      box-shadow: 0px 1px 2px rgba(60, 64, 67, 0.3), 0px 1px 3px 1px rgba(60, 64, 67, 0.15);\n",
              "      fill: #174EA6;\n",
              "    }\n",
              "\n",
              "    [theme=dark] .colab-df-convert {\n",
              "      background-color: #3B4455;\n",
              "      fill: #D2E3FC;\n",
              "    }\n",
              "\n",
              "    [theme=dark] .colab-df-convert:hover {\n",
              "      background-color: #434B5C;\n",
              "      box-shadow: 0px 1px 3px 1px rgba(0, 0, 0, 0.15);\n",
              "      filter: drop-shadow(0px 1px 2px rgba(0, 0, 0, 0.3));\n",
              "      fill: #FFFFFF;\n",
              "    }\n",
              "  </style>\n",
              "\n",
              "      <script>\n",
              "        const buttonEl =\n",
              "          document.querySelector('#df-0df8bbf4-18c6-49b2-b916-8fc704c974df button.colab-df-convert');\n",
              "        buttonEl.style.display =\n",
              "          google.colab.kernel.accessAllowed ? 'block' : 'none';\n",
              "\n",
              "        async function convertToInteractive(key) {\n",
              "          const element = document.querySelector('#df-0df8bbf4-18c6-49b2-b916-8fc704c974df');\n",
              "          const dataTable =\n",
              "            await google.colab.kernel.invokeFunction('convertToInteractive',\n",
              "                                                     [key], {});\n",
              "          if (!dataTable) return;\n",
              "\n",
              "          const docLinkHtml = 'Like what you see? Visit the ' +\n",
              "            '<a target=\"_blank\" href=https://colab.research.google.com/notebooks/data_table.ipynb>data table notebook</a>'\n",
              "            + ' to learn more about interactive tables.';\n",
              "          element.innerHTML = '';\n",
              "          dataTable['output_type'] = 'display_data';\n",
              "          await google.colab.output.renderOutput(dataTable, element);\n",
              "          const docLink = document.createElement('div');\n",
              "          docLink.innerHTML = docLinkHtml;\n",
              "          element.appendChild(docLink);\n",
              "        }\n",
              "      </script>\n",
              "    </div>\n",
              "  </div>\n",
              "  "
            ]
          },
          "metadata": {},
          "execution_count": 20
        }
      ],
      "source": [
        "current_gdf.head()"
      ]
    },
    {
      "cell_type": "code",
      "execution_count": null,
      "metadata": {
        "id": "BPr4Reczz3mO"
      },
      "outputs": [],
      "source": [
        "na_winds_df = get_bounded_df(current_ds, na_bounds)\n",
        "na_currents_df = get_bounded_df(wind_ds, na_bounds)"
      ]
    },
    {
      "cell_type": "code",
      "execution_count": null,
      "metadata": {
        "id": "PnJx-ABg0Gh_"
      },
      "outputs": [],
      "source": [
        "na_currents_gdf = geopandas.GeoDataFrame(na_currents_df, geometry=geopandas.points_from_xy(na_currents_df.lon, na_currents_df.lat)).drop(columns=['lat', 'lon'])\n",
        "na_winds_gdf = geopandas.GeoDataFrame(na_winds_df, geometry=geopandas.points_from_xy(na_winds_df.lon, na_winds_df.lat)).drop(columns=['lat', 'lon'])"
      ]
    },
    {
      "cell_type": "code",
      "execution_count": null,
      "metadata": {
        "id": "pSj2E6Ax6Rd1",
        "colab": {
          "base_uri": "https://localhost:8080/",
          "height": 206
        },
        "outputId": "0305207e-8240-47fd-eef1-9b9be8f23c9a"
      },
      "outputs": [
        {
          "output_type": "execute_result",
          "data": {
            "text/plain": [
              "             time  zlev         u         v         w                 geometry\n",
              "302508 2011-09-15  10.0 -0.634653  5.515023  6.324830  POINT (0.00000 0.00000)\n",
              "302509 2011-09-15  10.0 -0.638503  5.502288  6.287267  POINT (0.25000 0.00000)\n",
              "302510 2011-09-15  10.0 -0.623907  5.437766  6.254910  POINT (0.50000 0.00000)\n",
              "302511 2011-09-15  10.0 -0.524107  5.514946  6.298137  POINT (0.75000 0.00000)\n",
              "302512 2011-09-15  10.0 -0.486545  5.484176  6.256761  POINT (1.00000 0.00000)"
            ],
            "text/html": [
              "\n",
              "  <div id=\"df-31cc802f-324e-4be7-b5be-2c6296ff4fb7\">\n",
              "    <div class=\"colab-df-container\">\n",
              "      <div>\n",
              "<style scoped>\n",
              "    .dataframe tbody tr th:only-of-type {\n",
              "        vertical-align: middle;\n",
              "    }\n",
              "\n",
              "    .dataframe tbody tr th {\n",
              "        vertical-align: top;\n",
              "    }\n",
              "\n",
              "    .dataframe thead th {\n",
              "        text-align: right;\n",
              "    }\n",
              "</style>\n",
              "<table border=\"1\" class=\"dataframe\">\n",
              "  <thead>\n",
              "    <tr style=\"text-align: right;\">\n",
              "      <th></th>\n",
              "      <th>time</th>\n",
              "      <th>zlev</th>\n",
              "      <th>u</th>\n",
              "      <th>v</th>\n",
              "      <th>w</th>\n",
              "      <th>geometry</th>\n",
              "    </tr>\n",
              "  </thead>\n",
              "  <tbody>\n",
              "    <tr>\n",
              "      <th>302508</th>\n",
              "      <td>2011-09-15</td>\n",
              "      <td>10.0</td>\n",
              "      <td>-0.634653</td>\n",
              "      <td>5.515023</td>\n",
              "      <td>6.324830</td>\n",
              "      <td>POINT (0.00000 0.00000)</td>\n",
              "    </tr>\n",
              "    <tr>\n",
              "      <th>302509</th>\n",
              "      <td>2011-09-15</td>\n",
              "      <td>10.0</td>\n",
              "      <td>-0.638503</td>\n",
              "      <td>5.502288</td>\n",
              "      <td>6.287267</td>\n",
              "      <td>POINT (0.25000 0.00000)</td>\n",
              "    </tr>\n",
              "    <tr>\n",
              "      <th>302510</th>\n",
              "      <td>2011-09-15</td>\n",
              "      <td>10.0</td>\n",
              "      <td>-0.623907</td>\n",
              "      <td>5.437766</td>\n",
              "      <td>6.254910</td>\n",
              "      <td>POINT (0.50000 0.00000)</td>\n",
              "    </tr>\n",
              "    <tr>\n",
              "      <th>302511</th>\n",
              "      <td>2011-09-15</td>\n",
              "      <td>10.0</td>\n",
              "      <td>-0.524107</td>\n",
              "      <td>5.514946</td>\n",
              "      <td>6.298137</td>\n",
              "      <td>POINT (0.75000 0.00000)</td>\n",
              "    </tr>\n",
              "    <tr>\n",
              "      <th>302512</th>\n",
              "      <td>2011-09-15</td>\n",
              "      <td>10.0</td>\n",
              "      <td>-0.486545</td>\n",
              "      <td>5.484176</td>\n",
              "      <td>6.256761</td>\n",
              "      <td>POINT (1.00000 0.00000)</td>\n",
              "    </tr>\n",
              "  </tbody>\n",
              "</table>\n",
              "</div>\n",
              "      <button class=\"colab-df-convert\" onclick=\"convertToInteractive('df-31cc802f-324e-4be7-b5be-2c6296ff4fb7')\"\n",
              "              title=\"Convert this dataframe to an interactive table.\"\n",
              "              style=\"display:none;\">\n",
              "        \n",
              "  <svg xmlns=\"http://www.w3.org/2000/svg\" height=\"24px\"viewBox=\"0 0 24 24\"\n",
              "       width=\"24px\">\n",
              "    <path d=\"M0 0h24v24H0V0z\" fill=\"none\"/>\n",
              "    <path d=\"M18.56 5.44l.94 2.06.94-2.06 2.06-.94-2.06-.94-.94-2.06-.94 2.06-2.06.94zm-11 1L8.5 8.5l.94-2.06 2.06-.94-2.06-.94L8.5 2.5l-.94 2.06-2.06.94zm10 10l.94 2.06.94-2.06 2.06-.94-2.06-.94-.94-2.06-.94 2.06-2.06.94z\"/><path d=\"M17.41 7.96l-1.37-1.37c-.4-.4-.92-.59-1.43-.59-.52 0-1.04.2-1.43.59L10.3 9.45l-7.72 7.72c-.78.78-.78 2.05 0 2.83L4 21.41c.39.39.9.59 1.41.59.51 0 1.02-.2 1.41-.59l7.78-7.78 2.81-2.81c.8-.78.8-2.07 0-2.86zM5.41 20L4 18.59l7.72-7.72 1.47 1.35L5.41 20z\"/>\n",
              "  </svg>\n",
              "      </button>\n",
              "      \n",
              "  <style>\n",
              "    .colab-df-container {\n",
              "      display:flex;\n",
              "      flex-wrap:wrap;\n",
              "      gap: 12px;\n",
              "    }\n",
              "\n",
              "    .colab-df-convert {\n",
              "      background-color: #E8F0FE;\n",
              "      border: none;\n",
              "      border-radius: 50%;\n",
              "      cursor: pointer;\n",
              "      display: none;\n",
              "      fill: #1967D2;\n",
              "      height: 32px;\n",
              "      padding: 0 0 0 0;\n",
              "      width: 32px;\n",
              "    }\n",
              "\n",
              "    .colab-df-convert:hover {\n",
              "      background-color: #E2EBFA;\n",
              "      box-shadow: 0px 1px 2px rgba(60, 64, 67, 0.3), 0px 1px 3px 1px rgba(60, 64, 67, 0.15);\n",
              "      fill: #174EA6;\n",
              "    }\n",
              "\n",
              "    [theme=dark] .colab-df-convert {\n",
              "      background-color: #3B4455;\n",
              "      fill: #D2E3FC;\n",
              "    }\n",
              "\n",
              "    [theme=dark] .colab-df-convert:hover {\n",
              "      background-color: #434B5C;\n",
              "      box-shadow: 0px 1px 3px 1px rgba(0, 0, 0, 0.15);\n",
              "      filter: drop-shadow(0px 1px 2px rgba(0, 0, 0, 0.3));\n",
              "      fill: #FFFFFF;\n",
              "    }\n",
              "  </style>\n",
              "\n",
              "      <script>\n",
              "        const buttonEl =\n",
              "          document.querySelector('#df-31cc802f-324e-4be7-b5be-2c6296ff4fb7 button.colab-df-convert');\n",
              "        buttonEl.style.display =\n",
              "          google.colab.kernel.accessAllowed ? 'block' : 'none';\n",
              "\n",
              "        async function convertToInteractive(key) {\n",
              "          const element = document.querySelector('#df-31cc802f-324e-4be7-b5be-2c6296ff4fb7');\n",
              "          const dataTable =\n",
              "            await google.colab.kernel.invokeFunction('convertToInteractive',\n",
              "                                                     [key], {});\n",
              "          if (!dataTable) return;\n",
              "\n",
              "          const docLinkHtml = 'Like what you see? Visit the ' +\n",
              "            '<a target=\"_blank\" href=https://colab.research.google.com/notebooks/data_table.ipynb>data table notebook</a>'\n",
              "            + ' to learn more about interactive tables.';\n",
              "          element.innerHTML = '';\n",
              "          dataTable['output_type'] = 'display_data';\n",
              "          await google.colab.output.renderOutput(dataTable, element);\n",
              "          const docLink = document.createElement('div');\n",
              "          docLink.innerHTML = docLinkHtml;\n",
              "          element.appendChild(docLink);\n",
              "        }\n",
              "      </script>\n",
              "    </div>\n",
              "  </div>\n",
              "  "
            ]
          },
          "metadata": {},
          "execution_count": 23
        }
      ],
      "source": [
        "na_currents_gdf.head()"
      ]
    },
    {
      "cell_type": "markdown",
      "metadata": {
        "id": "Ub18waB2xudX"
      },
      "source": [
        "## Maritime Traffic"
      ]
    },
    {
      "cell_type": "markdown",
      "metadata": {
        "id": "nC4cPFON88yA"
      },
      "source": [
        "Using Automatic Identification System (AIS) data from [NOAA](https://coast.noaa.gov/htdata/CMSP/AISDataHandler/2021/index.html), we are able to track vessels as they travel along the east coast of the US. Our sample contains data for the month of May 2021. \n",
        "\n",
        "The tracks are not completely accurate as they are formed by connecting two points (longitude, lattitude) that contain the vessel's location at two different times. The location in between these two points is unknown, resulting in a straight line connecting them that may not be the actual path taken. \n",
        "\n"
      ]
    },
    {
      "cell_type": "code",
      "execution_count": null,
      "metadata": {
        "id": "7Khq_qn92Tyw"
      },
      "outputs": [],
      "source": [
        "df = pd.read_csv('./data/AIS_May_2021/AIS_May_2021.csv')"
      ]
    },
    {
      "cell_type": "code",
      "execution_count": null,
      "metadata": {
        "id": "H3ltjXA9xzLM"
      },
      "outputs": [],
      "source": [
        "def get_boat_track(mmsi, df, min_dist=0.001, max_dist=0.01):\n",
        "  ais_df_copy = df[df['MMSI'] == mmsi].sort_values('BaseDateTime')\n",
        "  ais_df_copy['diff'] = abs(ais_df_copy['LAT'].diff()) + abs(ais_df_copy['LON'].diff())\n",
        "  ais_df_copy = ais_df_copy[ais_df_copy['diff'] > min_dist]\n",
        "  ais_df_copy = ais_df_copy[ais_df_copy['diff'] < max_dist]\n",
        "\n",
        "  lats = ais_df_copy['LAT'].reset_index(drop=True)\n",
        "  lats.append(pd.Series(index=[0], data=[None]))\n",
        "  lons = ais_df_copy['LON'].reset_index(drop=True)\n",
        "  lons.append(pd.Series(index=[0], data=[None]))\n",
        "\n",
        "  return lats, lons"
      ]
    },
    {
      "cell_type": "code",
      "execution_count": null,
      "metadata": {
        "id": "cZblW9xn2LOa"
      },
      "outputs": [],
      "source": [
        "def show_boat_tracks(df, num_tracks=1000, min_dist=0.001, max_dist=0.01):\n",
        "  fig = go.Figure()\n",
        "  df = df.sample(frac=1)\n",
        "  \n",
        "  for mmsi in df['MMSI'].unique():\n",
        "    lat, lon = get_boat_track(mmsi, df, min_dist=min_dist, max_dist=max_dist)\n",
        "    fig.add_trace(go.Scattergeo(\n",
        "        lon = lon, \n",
        "        lat = lat, \n",
        "        mode = 'lines', \n",
        "        line = dict(width = 2),\n",
        "        opacity = .6)\n",
        "    )\n",
        "\n",
        "    num_tracks -= 1\n",
        "    if num_tracks == 0: \n",
        "      break\n",
        "\n",
        "  fig.update_geos(fitbounds=\"locations\")\n",
        "  fig.update_layout(height=300, margin={\"r\":0,\"t\":0,\"l\":0,\"b\":0}, showlegend=False)\n",
        "  fig.show()"
      ]
    },
    {
      "cell_type": "code",
      "execution_count": null,
      "metadata": {
        "id": "HJjbDEGyDPau"
      },
      "outputs": [],
      "source": [
        "def show_boats(df, num_boats=1000, min_dist=0.001, max_dist=0.003):\n",
        "  fig = go.Figure()\n",
        "  df = df.sample(frac=1)\n",
        "  \n",
        "  for mmsi in df['MMSI'].unique():\n",
        "    lat = df[df['MMSI'] == mmsi]['LAT'][0:1]\n",
        "    lon = df[df['MMSI'] == mmsi]['LON'][0:1]\n",
        "    fig.add_trace(go.Scattergeo(\n",
        "        lon = lon[0:1], \n",
        "        lat = lat[0:1], \n",
        "        marker = dict(\n",
        "            size = 3,\n",
        "            line_width=0.1,\n",
        "            opacity = .2,\n",
        "            color = 'red')\n",
        "        ))\n",
        "\n",
        "    num_boats -= 1\n",
        "    if num_boats == 0: \n",
        "      break\n",
        "\n",
        "  fig.update_geos(fitbounds=\"locations\")\n",
        "  fig.update_layout(height=300, margin={\"r\":0,\"t\":0,\"l\":0,\"b\":0}, showlegend = False)\n",
        "  fig.show()"
      ]
    },
    {
      "cell_type": "code",
      "execution_count": null,
      "metadata": {
        "id": "vfZEB1YJ3Ou6"
      },
      "outputs": [],
      "source": [
        "# show_boat_tracks(df, num_tracks = 200)"
      ]
    },
    {
      "cell_type": "code",
      "execution_count": null,
      "metadata": {
        "id": "legmUwNuDTVH"
      },
      "outputs": [],
      "source": [
        "# show_boats(df, num_boats = 3000)"
      ]
    },
    {
      "cell_type": "code",
      "execution_count": null,
      "metadata": {
        "id": "XXsyo5F0rO4p"
      },
      "outputs": [],
      "source": [
        "def show_boat_density(df, bin):\n",
        "  x = df['LON']\n",
        "  y = df['LAT']\n",
        "  heatmap, xedges, yedges = np.histogram2d(x, y, bins=bin)\n",
        "  extent = [xedges[0], xedges[-1], yedges[0], yedges[-1]]\n",
        "\n",
        "  plt.imshow(heatmap.T, extent=extent, origin='lower', cmap='jet')\n",
        "  plt.show()"
      ]
    },
    {
      "cell_type": "code",
      "execution_count": null,
      "metadata": {
        "id": "iD8gDoKguoXm",
        "colab": {
          "base_uri": "https://localhost:8080/",
          "height": 266
        },
        "outputId": "a180cef9-27a3-4156-ad41-6380735a5cf4"
      },
      "outputs": [
        {
          "output_type": "display_data",
          "data": {
            "text/plain": [
              "<Figure size 432x288 with 1 Axes>"
            ],
            "image/png": "[encoded data removed]"
          },
          "metadata": {
            "needs_background": "light"
          }
        }
      ],
      "source": [
        "ais_df = pd.read_csv('./data/AIS_May_2021/AIS_May_2021.csv')\n",
        "show_boat_density(ais_df, 30)"
      ]
    },
    {
      "cell_type": "code",
      "source": [
        "traffic_gdf = geopandas.GeoDataFrame(ais_df, geometry=geopandas.points_from_xy(ais_df['LON'], ais_df['LAT']))\n",
        "traffic_gdf = traffic_gdf.drop(columns=['MMSI', 'BaseDateTime', 'LAT', 'LON', 'SOG'])"
      ],
      "metadata": {
        "id": "E2UsQPdyFt7k"
      },
      "execution_count": null,
      "outputs": []
    },
    {
      "cell_type": "markdown",
      "source": [
        "https://www.robsonforensic.com/articles/visibility-factors-in-small-boat-collisions-expert-research"
      ],
      "metadata": {
        "id": "2u8MiP9JIjRY"
      }
    },
    {
      "cell_type": "code",
      "source": [
        "bounds = na_currents_gdf.total_bounds"
      ],
      "metadata": {
        "id": "PHJ8yk8EWPqn"
      },
      "execution_count": null,
      "outputs": []
    },
    {
      "cell_type": "code",
      "source": [
        "traffic_gdf.head()"
      ],
      "metadata": {
        "id": "IP8dUxzwJ32W",
        "colab": {
          "base_uri": "https://localhost:8080/",
          "height": 206
        },
        "outputId": "b578d04b-e155-429e-aeff-81bf6af3e58d"
      },
      "execution_count": null,
      "outputs": [
        {
          "output_type": "execute_result",
          "data": {
            "text/plain": [
              "                     geometry\n",
              "0  POINT (-79.70614 27.81761)\n",
              "1  POINT (-75.12950 36.73923)\n",
              "2  POINT (-73.90155 40.56954)\n",
              "3  POINT (-76.07849 37.35700)\n",
              "4  POINT (-79.63229 32.64091)"
            ],
            "text/html": [
              "\n",
              "  <div id=\"df-f06492cc-7c04-44d1-abf4-95f0dc432482\">\n",
              "    <div class=\"colab-df-container\">\n",
              "      <div>\n",
              "<style scoped>\n",
              "    .dataframe tbody tr th:only-of-type {\n",
              "        vertical-align: middle;\n",
              "    }\n",
              "\n",
              "    .dataframe tbody tr th {\n",
              "        vertical-align: top;\n",
              "    }\n",
              "\n",
              "    .dataframe thead th {\n",
              "        text-align: right;\n",
              "    }\n",
              "</style>\n",
              "<table border=\"1\" class=\"dataframe\">\n",
              "  <thead>\n",
              "    <tr style=\"text-align: right;\">\n",
              "      <th></th>\n",
              "      <th>geometry</th>\n",
              "    </tr>\n",
              "  </thead>\n",
              "  <tbody>\n",
              "    <tr>\n",
              "      <th>0</th>\n",
              "      <td>POINT (-79.70614 27.81761)</td>\n",
              "    </tr>\n",
              "    <tr>\n",
              "      <th>1</th>\n",
              "      <td>POINT (-75.12950 36.73923)</td>\n",
              "    </tr>\n",
              "    <tr>\n",
              "      <th>2</th>\n",
              "      <td>POINT (-73.90155 40.56954)</td>\n",
              "    </tr>\n",
              "    <tr>\n",
              "      <th>3</th>\n",
              "      <td>POINT (-76.07849 37.35700)</td>\n",
              "    </tr>\n",
              "    <tr>\n",
              "      <th>4</th>\n",
              "      <td>POINT (-79.63229 32.64091)</td>\n",
              "    </tr>\n",
              "  </tbody>\n",
              "</table>\n",
              "</div>\n",
              "      <button class=\"colab-df-convert\" onclick=\"convertToInteractive('df-f06492cc-7c04-44d1-abf4-95f0dc432482')\"\n",
              "              title=\"Convert this dataframe to an interactive table.\"\n",
              "              style=\"display:none;\">\n",
              "        \n",
              "  <svg xmlns=\"http://www.w3.org/2000/svg\" height=\"24px\"viewBox=\"0 0 24 24\"\n",
              "       width=\"24px\">\n",
              "    <path d=\"M0 0h24v24H0V0z\" fill=\"none\"/>\n",
              "    <path d=\"M18.56 5.44l.94 2.06.94-2.06 2.06-.94-2.06-.94-.94-2.06-.94 2.06-2.06.94zm-11 1L8.5 8.5l.94-2.06 2.06-.94-2.06-.94L8.5 2.5l-.94 2.06-2.06.94zm10 10l.94 2.06.94-2.06 2.06-.94-2.06-.94-.94-2.06-.94 2.06-2.06.94z\"/><path d=\"M17.41 7.96l-1.37-1.37c-.4-.4-.92-.59-1.43-.59-.52 0-1.04.2-1.43.59L10.3 9.45l-7.72 7.72c-.78.78-.78 2.05 0 2.83L4 21.41c.39.39.9.59 1.41.59.51 0 1.02-.2 1.41-.59l7.78-7.78 2.81-2.81c.8-.78.8-2.07 0-2.86zM5.41 20L4 18.59l7.72-7.72 1.47 1.35L5.41 20z\"/>\n",
              "  </svg>\n",
              "      </button>\n",
              "      \n",
              "  <style>\n",
              "    .colab-df-container {\n",
              "      display:flex;\n",
              "      flex-wrap:wrap;\n",
              "      gap: 12px;\n",
              "    }\n",
              "\n",
              "    .colab-df-convert {\n",
              "      background-color: #E8F0FE;\n",
              "      border: none;\n",
              "      border-radius: 50%;\n",
              "      cursor: pointer;\n",
              "      display: none;\n",
              "      fill: #1967D2;\n",
              "      height: 32px;\n",
              "      padding: 0 0 0 0;\n",
              "      width: 32px;\n",
              "    }\n",
              "\n",
              "    .colab-df-convert:hover {\n",
              "      background-color: #E2EBFA;\n",
              "      box-shadow: 0px 1px 2px rgba(60, 64, 67, 0.3), 0px 1px 3px 1px rgba(60, 64, 67, 0.15);\n",
              "      fill: #174EA6;\n",
              "    }\n",
              "\n",
              "    [theme=dark] .colab-df-convert {\n",
              "      background-color: #3B4455;\n",
              "      fill: #D2E3FC;\n",
              "    }\n",
              "\n",
              "    [theme=dark] .colab-df-convert:hover {\n",
              "      background-color: #434B5C;\n",
              "      box-shadow: 0px 1px 3px 1px rgba(0, 0, 0, 0.15);\n",
              "      filter: drop-shadow(0px 1px 2px rgba(0, 0, 0, 0.3));\n",
              "      fill: #FFFFFF;\n",
              "    }\n",
              "  </style>\n",
              "\n",
              "      <script>\n",
              "        const buttonEl =\n",
              "          document.querySelector('#df-f06492cc-7c04-44d1-abf4-95f0dc432482 button.colab-df-convert');\n",
              "        buttonEl.style.display =\n",
              "          google.colab.kernel.accessAllowed ? 'block' : 'none';\n",
              "\n",
              "        async function convertToInteractive(key) {\n",
              "          const element = document.querySelector('#df-f06492cc-7c04-44d1-abf4-95f0dc432482');\n",
              "          const dataTable =\n",
              "            await google.colab.kernel.invokeFunction('convertToInteractive',\n",
              "                                                     [key], {});\n",
              "          if (!dataTable) return;\n",
              "\n",
              "          const docLinkHtml = 'Like what you see? Visit the ' +\n",
              "            '<a target=\"_blank\" href=https://colab.research.google.com/notebooks/data_table.ipynb>data table notebook</a>'\n",
              "            + ' to learn more about interactive tables.';\n",
              "          element.innerHTML = '';\n",
              "          dataTable['output_type'] = 'display_data';\n",
              "          await google.colab.output.renderOutput(dataTable, element);\n",
              "          const docLink = document.createElement('div');\n",
              "          docLink.innerHTML = docLinkHtml;\n",
              "          element.appendChild(docLink);\n",
              "        }\n",
              "      </script>\n",
              "    </div>\n",
              "  </div>\n",
              "  "
            ]
          },
          "metadata": {},
          "execution_count": 34
        }
      ]
    },
    {
      "cell_type": "code",
      "source": [
        "traffic_gdf['n']=1"
      ],
      "metadata": {
        "id": "K7f4awlmRNaM"
      },
      "execution_count": null,
      "outputs": []
    },
    {
      "cell_type": "code",
      "source": [
        "grid_na_t_gdf = grid_data(traffic_gdf, (1, 1), bounds, aggfunc='count').fillna(value={'n': 0})"
      ],
      "metadata": {
        "id": "qFM7rShED7YS",
        "colab": {
          "base_uri": "https://localhost:8080/"
        },
        "outputId": "7fe32e66-761d-4ceb-f26f-af03decb1edb"
      },
      "execution_count": null,
      "outputs": [
        {
          "output_type": "stream",
          "name": "stdout",
          "text": [
            "1 x size  1 y size\n",
            "7616 cells created\n"
          ]
        },
        {
          "output_type": "stream",
          "name": "stderr",
          "text": [
            "/usr/local/lib/python3.7/dist-packages/IPython/core/interactiveshell.py:2882: FutureWarning: The `op` parameter is deprecated and will be removed in a future release. Please use the `predicate` parameter instead.\n",
            "  exec(code_obj, self.user_global_ns, self.user_ns)\n"
          ]
        }
      ]
    },
    {
      "cell_type": "markdown",
      "metadata": {
        "id": "5yNS2Dvpl-ph"
      },
      "source": [
        "## Kinematic Model"
      ]
    },
    {
      "cell_type": "markdown",
      "metadata": {
        "id": "zN9zHVDGffYp"
      },
      "source": [
        "https://www.aoml.noaa.gov/phod/gdp/faq.php#sst\n",
        "Drift buoys go at speed of surface current"
      ]
    },
    {
      "cell_type": "code",
      "execution_count": null,
      "metadata": {
        "id": "r5xwcD5lrB5-",
        "colab": {
          "base_uri": "https://localhost:8080/"
        },
        "outputId": "6b548964-d63c-4f41-f69a-a525810f38ab"
      },
      "outputs": [
        {
          "output_type": "stream",
          "name": "stdout",
          "text": [
            "1 x size  1 y size\n",
            "7616 cells created\n"
          ]
        },
        {
          "output_type": "stream",
          "name": "stderr",
          "text": [
            "/usr/local/lib/python3.7/dist-packages/IPython/core/interactiveshell.py:2882: FutureWarning: The `op` parameter is deprecated and will be removed in a future release. Please use the `predicate` parameter instead.\n",
            "  exec(code_obj, self.user_global_ns, self.user_ns)\n"
          ]
        },
        {
          "output_type": "stream",
          "name": "stdout",
          "text": [
            "1 x size  1 y size\n",
            "7616 cells created\n"
          ]
        },
        {
          "output_type": "stream",
          "name": "stderr",
          "text": [
            "/usr/local/lib/python3.7/dist-packages/IPython/core/interactiveshell.py:2882: FutureWarning: The `op` parameter is deprecated and will be removed in a future release. Please use the `predicate` parameter instead.\n",
            "  exec(code_obj, self.user_global_ns, self.user_ns)\n"
          ]
        }
      ],
      "source": [
        "# Create combined regridded df\n",
        "grid_na_c_gdf = grid_data(na_currents_gdf, (1, 1), None)\n",
        "grid_na_w_gdf = grid_data(na_winds_gdf, (1, 1), None)\n",
        "\n",
        "combined_gdf = grid_na_c_gdf.merge(grid_na_w_gdf, on='geometry')"
      ]
    },
    {
      "cell_type": "code",
      "source": [
        "# Add in maritime traffic\n",
        "\n",
        "grid_na_t_gdf['n'] = grid_na_t_gdf['n'].mask(grid_na_c_gdf['zlev'].isnull())\n",
        "\n"
      ],
      "metadata": {
        "id": "L_BpxPNtUjlj"
      },
      "execution_count": null,
      "outputs": []
    },
    {
      "cell_type": "code",
      "source": [
        "ax = grid_na_t_gdf.plot(markersize=.1, figsize=(12, 8), column='n', cmap='jet')\n",
        "plt.autoscale(False)\n",
        "microtransat_boat_end = [(-25.9344000,47.3757600), (-67.3836430,41.2979880), (-66.9030130,42.8378230)] \n",
        "for pt in microtransat_boat_end:\n",
        "  ax.scatter(pt[0], pt[1], color=\"white\")\n",
        "  ax.annotate(\"Caught by fishing boat\", pt, color=\"white\", xytext=(6,-3), textcoords=\"offset points\")\n",
        "combined_gdf.plot(ax=ax, facecolor='none', edgecolor='grey', alpha=.1)\n",
        "ax.axis(\"off\")"
      ],
      "metadata": {
        "id": "cl_VKUnNYruL",
        "colab": {
          "base_uri": "https://localhost:8080/",
          "height": 454
        },
        "outputId": "132d5ce6-d490-416c-8d9b-8f49a42c55d6"
      },
      "execution_count": null,
      "outputs": [
        {
          "output_type": "execute_result",
          "data": {
            "text/plain": [
              "(-105.59999999999998, 17.6, -3.4000000000000004, 71.4)"
            ]
          },
          "metadata": {},
          "execution_count": 39
        },
        {
          "output_type": "display_data",
          "data": {
            "text/plain": [
              "<Figure size 864x576 with 1 Axes>"
            ],
            "image/png": "[encoded data removed]"
          },
          "metadata": {
            "needs_background": "light"
          }
        }
      ]
    },
    {
      "cell_type": "code",
      "source": [
        "combined_gdf = combined_gdf.merge(grid_na_t_gdf, on='geometry')"
      ],
      "metadata": {
        "id": "WwAcnFUmY_Oc"
      },
      "execution_count": null,
      "outputs": []
    },
    {
      "cell_type": "code",
      "execution_count": null,
      "metadata": {
        "id": "DKVT9-x7HBZs",
        "colab": {
          "base_uri": "https://localhost:8080/",
          "height": 206
        },
        "outputId": "6d6b2bbe-9de7-4f79-a106-84b50627a3d0"
      },
      "outputs": [
        {
          "output_type": "execute_result",
          "data": {
            "text/plain": [
              "                                            geometry  zlev       u_x  \\\n",
              "0  POLYGON ((-99.00000 0.00000, -99.00000 1.00000...  10.0 -1.508128   \n",
              "1  POLYGON ((-99.00000 1.00000, -99.00000 2.00000...  10.0 -0.981718   \n",
              "2  POLYGON ((-99.00000 2.00000, -99.00000 3.00000...  10.0 -0.173407   \n",
              "3  POLYGON ((-99.00000 3.00000, -99.00000 4.00000...  10.0  0.517940   \n",
              "4  POLYGON ((-99.00000 4.00000, -99.00000 5.00000...  10.0  1.217792   \n",
              "\n",
              "        v_x         w       u_y       v_y        ug        vg    n  \n",
              "0  5.452045  5.885843 -0.454072 -0.504904 -0.816768 -0.594510  0.0  \n",
              "1  6.629486  6.960626 -0.672062 -0.498429 -1.096830 -0.636563  0.0  \n",
              "2  7.265889  7.509792 -0.646119 -0.292941 -0.985076 -0.445447  0.0  \n",
              "3  7.577067  7.864586 -0.357129 -0.019079 -0.529972 -0.147251  0.0  \n",
              "4  7.374853  7.789278  0.108220  0.102816  0.010934  0.029647  0.0  "
            ],
            "text/html": [
              "\n",
              "  <div id=\"df-afd46d2d-4bc9-4d97-942c-f4d93314e4aa\">\n",
              "    <div class=\"colab-df-container\">\n",
              "      <div>\n",
              "<style scoped>\n",
              "    .dataframe tbody tr th:only-of-type {\n",
              "        vertical-align: middle;\n",
              "    }\n",
              "\n",
              "    .dataframe tbody tr th {\n",
              "        vertical-align: top;\n",
              "    }\n",
              "\n",
              "    .dataframe thead th {\n",
              "        text-align: right;\n",
              "    }\n",
              "</style>\n",
              "<table border=\"1\" class=\"dataframe\">\n",
              "  <thead>\n",
              "    <tr style=\"text-align: right;\">\n",
              "      <th></th>\n",
              "      <th>geometry</th>\n",
              "      <th>zlev</th>\n",
              "      <th>u_x</th>\n",
              "      <th>v_x</th>\n",
              "      <th>w</th>\n",
              "      <th>u_y</th>\n",
              "      <th>v_y</th>\n",
              "      <th>ug</th>\n",
              "      <th>vg</th>\n",
              "      <th>n</th>\n",
              "    </tr>\n",
              "  </thead>\n",
              "  <tbody>\n",
              "    <tr>\n",
              "      <th>0</th>\n",
              "      <td>POLYGON ((-99.00000 0.00000, -99.00000 1.00000...</td>\n",
              "      <td>10.0</td>\n",
              "      <td>-1.508128</td>\n",
              "      <td>5.452045</td>\n",
              "      <td>5.885843</td>\n",
              "      <td>-0.454072</td>\n",
              "      <td>-0.504904</td>\n",
              "      <td>-0.816768</td>\n",
              "      <td>-0.594510</td>\n",
              "      <td>0.0</td>\n",
              "    </tr>\n",
              "    <tr>\n",
              "      <th>1</th>\n",
              "      <td>POLYGON ((-99.00000 1.00000, -99.00000 2.00000...</td>\n",
              "      <td>10.0</td>\n",
              "      <td>-0.981718</td>\n",
              "      <td>6.629486</td>\n",
              "      <td>6.960626</td>\n",
              "      <td>-0.672062</td>\n",
              "      <td>-0.498429</td>\n",
              "      <td>-1.096830</td>\n",
              "      <td>-0.636563</td>\n",
              "      <td>0.0</td>\n",
              "    </tr>\n",
              "    <tr>\n",
              "      <th>2</th>\n",
              "      <td>POLYGON ((-99.00000 2.00000, -99.00000 3.00000...</td>\n",
              "      <td>10.0</td>\n",
              "      <td>-0.173407</td>\n",
              "      <td>7.265889</td>\n",
              "      <td>7.509792</td>\n",
              "      <td>-0.646119</td>\n",
              "      <td>-0.292941</td>\n",
              "      <td>-0.985076</td>\n",
              "      <td>-0.445447</td>\n",
              "      <td>0.0</td>\n",
              "    </tr>\n",
              "    <tr>\n",
              "      <th>3</th>\n",
              "      <td>POLYGON ((-99.00000 3.00000, -99.00000 4.00000...</td>\n",
              "      <td>10.0</td>\n",
              "      <td>0.517940</td>\n",
              "      <td>7.577067</td>\n",
              "      <td>7.864586</td>\n",
              "      <td>-0.357129</td>\n",
              "      <td>-0.019079</td>\n",
              "      <td>-0.529972</td>\n",
              "      <td>-0.147251</td>\n",
              "      <td>0.0</td>\n",
              "    </tr>\n",
              "    <tr>\n",
              "      <th>4</th>\n",
              "      <td>POLYGON ((-99.00000 4.00000, -99.00000 5.00000...</td>\n",
              "      <td>10.0</td>\n",
              "      <td>1.217792</td>\n",
              "      <td>7.374853</td>\n",
              "      <td>7.789278</td>\n",
              "      <td>0.108220</td>\n",
              "      <td>0.102816</td>\n",
              "      <td>0.010934</td>\n",
              "      <td>0.029647</td>\n",
              "      <td>0.0</td>\n",
              "    </tr>\n",
              "  </tbody>\n",
              "</table>\n",
              "</div>\n",
              "      <button class=\"colab-df-convert\" onclick=\"convertToInteractive('df-afd46d2d-4bc9-4d97-942c-f4d93314e4aa')\"\n",
              "              title=\"Convert this dataframe to an interactive table.\"\n",
              "              style=\"display:none;\">\n",
              "        \n",
              "  <svg xmlns=\"http://www.w3.org/2000/svg\" height=\"24px\"viewBox=\"0 0 24 24\"\n",
              "       width=\"24px\">\n",
              "    <path d=\"M0 0h24v24H0V0z\" fill=\"none\"/>\n",
              "    <path d=\"M18.56 5.44l.94 2.06.94-2.06 2.06-.94-2.06-.94-.94-2.06-.94 2.06-2.06.94zm-11 1L8.5 8.5l.94-2.06 2.06-.94-2.06-.94L8.5 2.5l-.94 2.06-2.06.94zm10 10l.94 2.06.94-2.06 2.06-.94-2.06-.94-.94-2.06-.94 2.06-2.06.94z\"/><path d=\"M17.41 7.96l-1.37-1.37c-.4-.4-.92-.59-1.43-.59-.52 0-1.04.2-1.43.59L10.3 9.45l-7.72 7.72c-.78.78-.78 2.05 0 2.83L4 21.41c.39.39.9.59 1.41.59.51 0 1.02-.2 1.41-.59l7.78-7.78 2.81-2.81c.8-.78.8-2.07 0-2.86zM5.41 20L4 18.59l7.72-7.72 1.47 1.35L5.41 20z\"/>\n",
              "  </svg>\n",
              "      </button>\n",
              "      \n",
              "  <style>\n",
              "    .colab-df-container {\n",
              "      display:flex;\n",
              "      flex-wrap:wrap;\n",
              "      gap: 12px;\n",
              "    }\n",
              "\n",
              "    .colab-df-convert {\n",
              "      background-color: #E8F0FE;\n",
              "      border: none;\n",
              "      border-radius: 50%;\n",
              "      cursor: pointer;\n",
              "      display: none;\n",
              "      fill: #1967D2;\n",
              "      height: 32px;\n",
              "      padding: 0 0 0 0;\n",
              "      width: 32px;\n",
              "    }\n",
              "\n",
              "    .colab-df-convert:hover {\n",
              "      background-color: #E2EBFA;\n",
              "      box-shadow: 0px 1px 2px rgba(60, 64, 67, 0.3), 0px 1px 3px 1px rgba(60, 64, 67, 0.15);\n",
              "      fill: #174EA6;\n",
              "    }\n",
              "\n",
              "    [theme=dark] .colab-df-convert {\n",
              "      background-color: #3B4455;\n",
              "      fill: #D2E3FC;\n",
              "    }\n",
              "\n",
              "    [theme=dark] .colab-df-convert:hover {\n",
              "      background-color: #434B5C;\n",
              "      box-shadow: 0px 1px 3px 1px rgba(0, 0, 0, 0.15);\n",
              "      filter: drop-shadow(0px 1px 2px rgba(0, 0, 0, 0.3));\n",
              "      fill: #FFFFFF;\n",
              "    }\n",
              "  </style>\n",
              "\n",
              "      <script>\n",
              "        const buttonEl =\n",
              "          document.querySelector('#df-afd46d2d-4bc9-4d97-942c-f4d93314e4aa button.colab-df-convert');\n",
              "        buttonEl.style.display =\n",
              "          google.colab.kernel.accessAllowed ? 'block' : 'none';\n",
              "\n",
              "        async function convertToInteractive(key) {\n",
              "          const element = document.querySelector('#df-afd46d2d-4bc9-4d97-942c-f4d93314e4aa');\n",
              "          const dataTable =\n",
              "            await google.colab.kernel.invokeFunction('convertToInteractive',\n",
              "                                                     [key], {});\n",
              "          if (!dataTable) return;\n",
              "\n",
              "          const docLinkHtml = 'Like what you see? Visit the ' +\n",
              "            '<a target=\"_blank\" href=https://colab.research.google.com/notebooks/data_table.ipynb>data table notebook</a>'\n",
              "            + ' to learn more about interactive tables.';\n",
              "          element.innerHTML = '';\n",
              "          dataTable['output_type'] = 'display_data';\n",
              "          await google.colab.output.renderOutput(dataTable, element);\n",
              "          const docLink = document.createElement('div');\n",
              "          docLink.innerHTML = docLinkHtml;\n",
              "          element.appendChild(docLink);\n",
              "        }\n",
              "      </script>\n",
              "    </div>\n",
              "  </div>\n",
              "  "
            ]
          },
          "metadata": {},
          "execution_count": 41
        }
      ],
      "source": [
        "combined_gdf.head()"
      ]
    },
    {
      "cell_type": "code",
      "execution_count": null,
      "metadata": {
        "id": "4hJSx7qBirXi",
        "colab": {
          "base_uri": "https://localhost:8080/",
          "height": 206
        },
        "outputId": "36ce0917-569d-4bd5-c3af-d9a2dd468c95"
      },
      "outputs": [
        {
          "output_type": "execute_result",
          "data": {
            "text/plain": [
              "                                            geometry  zlev       u_x  \\\n",
              "0  POLYGON ((-99.00000 0.00000, -99.00000 1.00000...  10.0 -1.508128   \n",
              "1  POLYGON ((-99.00000 1.00000, -99.00000 2.00000...  10.0 -0.981718   \n",
              "2  POLYGON ((-99.00000 2.00000, -99.00000 3.00000...  10.0 -0.173407   \n",
              "3  POLYGON ((-99.00000 3.00000, -99.00000 4.00000...  10.0  0.517940   \n",
              "4  POLYGON ((-99.00000 4.00000, -99.00000 5.00000...  10.0  1.217792   \n",
              "\n",
              "        v_x         w       u_y       v_y        ug        vg    n  \n",
              "0  5.452045  5.885843 -0.454072 -0.504904 -0.816768 -0.594510  0.0  \n",
              "1  6.629486  6.960626 -0.672062 -0.498429 -1.096830 -0.636563  0.0  \n",
              "2  7.265889  7.509792 -0.646119 -0.292941 -0.985076 -0.445447  0.0  \n",
              "3  7.577067  7.864586 -0.357129 -0.019079 -0.529972 -0.147251  0.0  \n",
              "4  7.374853  7.789278  0.108220  0.102816  0.010934  0.029647  0.0  "
            ],
            "text/html": [
              "\n",
              "  <div id=\"df-d67eaf2a-a052-4ef3-9fb6-16ff719ddcb8\">\n",
              "    <div class=\"colab-df-container\">\n",
              "      <div>\n",
              "<style scoped>\n",
              "    .dataframe tbody tr th:only-of-type {\n",
              "        vertical-align: middle;\n",
              "    }\n",
              "\n",
              "    .dataframe tbody tr th {\n",
              "        vertical-align: top;\n",
              "    }\n",
              "\n",
              "    .dataframe thead th {\n",
              "        text-align: right;\n",
              "    }\n",
              "</style>\n",
              "<table border=\"1\" class=\"dataframe\">\n",
              "  <thead>\n",
              "    <tr style=\"text-align: right;\">\n",
              "      <th></th>\n",
              "      <th>geometry</th>\n",
              "      <th>zlev</th>\n",
              "      <th>u_x</th>\n",
              "      <th>v_x</th>\n",
              "      <th>w</th>\n",
              "      <th>u_y</th>\n",
              "      <th>v_y</th>\n",
              "      <th>ug</th>\n",
              "      <th>vg</th>\n",
              "      <th>n</th>\n",
              "    </tr>\n",
              "  </thead>\n",
              "  <tbody>\n",
              "    <tr>\n",
              "      <th>0</th>\n",
              "      <td>POLYGON ((-99.00000 0.00000, -99.00000 1.00000...</td>\n",
              "      <td>10.0</td>\n",
              "      <td>-1.508128</td>\n",
              "      <td>5.452045</td>\n",
              "      <td>5.885843</td>\n",
              "      <td>-0.454072</td>\n",
              "      <td>-0.504904</td>\n",
              "      <td>-0.816768</td>\n",
              "      <td>-0.594510</td>\n",
              "      <td>0.0</td>\n",
              "    </tr>\n",
              "    <tr>\n",
              "      <th>1</th>\n",
              "      <td>POLYGON ((-99.00000 1.00000, -99.00000 2.00000...</td>\n",
              "      <td>10.0</td>\n",
              "      <td>-0.981718</td>\n",
              "      <td>6.629486</td>\n",
              "      <td>6.960626</td>\n",
              "      <td>-0.672062</td>\n",
              "      <td>-0.498429</td>\n",
              "      <td>-1.096830</td>\n",
              "      <td>-0.636563</td>\n",
              "      <td>0.0</td>\n",
              "    </tr>\n",
              "    <tr>\n",
              "      <th>2</th>\n",
              "      <td>POLYGON ((-99.00000 2.00000, -99.00000 3.00000...</td>\n",
              "      <td>10.0</td>\n",
              "      <td>-0.173407</td>\n",
              "      <td>7.265889</td>\n",
              "      <td>7.509792</td>\n",
              "      <td>-0.646119</td>\n",
              "      <td>-0.292941</td>\n",
              "      <td>-0.985076</td>\n",
              "      <td>-0.445447</td>\n",
              "      <td>0.0</td>\n",
              "    </tr>\n",
              "    <tr>\n",
              "      <th>3</th>\n",
              "      <td>POLYGON ((-99.00000 3.00000, -99.00000 4.00000...</td>\n",
              "      <td>10.0</td>\n",
              "      <td>0.517940</td>\n",
              "      <td>7.577067</td>\n",
              "      <td>7.864586</td>\n",
              "      <td>-0.357129</td>\n",
              "      <td>-0.019079</td>\n",
              "      <td>-0.529972</td>\n",
              "      <td>-0.147251</td>\n",
              "      <td>0.0</td>\n",
              "    </tr>\n",
              "    <tr>\n",
              "      <th>4</th>\n",
              "      <td>POLYGON ((-99.00000 4.00000, -99.00000 5.00000...</td>\n",
              "      <td>10.0</td>\n",
              "      <td>1.217792</td>\n",
              "      <td>7.374853</td>\n",
              "      <td>7.789278</td>\n",
              "      <td>0.108220</td>\n",
              "      <td>0.102816</td>\n",
              "      <td>0.010934</td>\n",
              "      <td>0.029647</td>\n",
              "      <td>0.0</td>\n",
              "    </tr>\n",
              "  </tbody>\n",
              "</table>\n",
              "</div>\n",
              "      <button class=\"colab-df-convert\" onclick=\"convertToInteractive('df-d67eaf2a-a052-4ef3-9fb6-16ff719ddcb8')\"\n",
              "              title=\"Convert this dataframe to an interactive table.\"\n",
              "              style=\"display:none;\">\n",
              "        \n",
              "  <svg xmlns=\"http://www.w3.org/2000/svg\" height=\"24px\"viewBox=\"0 0 24 24\"\n",
              "       width=\"24px\">\n",
              "    <path d=\"M0 0h24v24H0V0z\" fill=\"none\"/>\n",
              "    <path d=\"M18.56 5.44l.94 2.06.94-2.06 2.06-.94-2.06-.94-.94-2.06-.94 2.06-2.06.94zm-11 1L8.5 8.5l.94-2.06 2.06-.94-2.06-.94L8.5 2.5l-.94 2.06-2.06.94zm10 10l.94 2.06.94-2.06 2.06-.94-2.06-.94-.94-2.06-.94 2.06-2.06.94z\"/><path d=\"M17.41 7.96l-1.37-1.37c-.4-.4-.92-.59-1.43-.59-.52 0-1.04.2-1.43.59L10.3 9.45l-7.72 7.72c-.78.78-.78 2.05 0 2.83L4 21.41c.39.39.9.59 1.41.59.51 0 1.02-.2 1.41-.59l7.78-7.78 2.81-2.81c.8-.78.8-2.07 0-2.86zM5.41 20L4 18.59l7.72-7.72 1.47 1.35L5.41 20z\"/>\n",
              "  </svg>\n",
              "      </button>\n",
              "      \n",
              "  <style>\n",
              "    .colab-df-container {\n",
              "      display:flex;\n",
              "      flex-wrap:wrap;\n",
              "      gap: 12px;\n",
              "    }\n",
              "\n",
              "    .colab-df-convert {\n",
              "      background-color: #E8F0FE;\n",
              "      border: none;\n",
              "      border-radius: 50%;\n",
              "      cursor: pointer;\n",
              "      display: none;\n",
              "      fill: #1967D2;\n",
              "      height: 32px;\n",
              "      padding: 0 0 0 0;\n",
              "      width: 32px;\n",
              "    }\n",
              "\n",
              "    .colab-df-convert:hover {\n",
              "      background-color: #E2EBFA;\n",
              "      box-shadow: 0px 1px 2px rgba(60, 64, 67, 0.3), 0px 1px 3px 1px rgba(60, 64, 67, 0.15);\n",
              "      fill: #174EA6;\n",
              "    }\n",
              "\n",
              "    [theme=dark] .colab-df-convert {\n",
              "      background-color: #3B4455;\n",
              "      fill: #D2E3FC;\n",
              "    }\n",
              "\n",
              "    [theme=dark] .colab-df-convert:hover {\n",
              "      background-color: #434B5C;\n",
              "      box-shadow: 0px 1px 3px 1px rgba(0, 0, 0, 0.15);\n",
              "      filter: drop-shadow(0px 1px 2px rgba(0, 0, 0, 0.3));\n",
              "      fill: #FFFFFF;\n",
              "    }\n",
              "  </style>\n",
              "\n",
              "      <script>\n",
              "        const buttonEl =\n",
              "          document.querySelector('#df-d67eaf2a-a052-4ef3-9fb6-16ff719ddcb8 button.colab-df-convert');\n",
              "        buttonEl.style.display =\n",
              "          google.colab.kernel.accessAllowed ? 'block' : 'none';\n",
              "\n",
              "        async function convertToInteractive(key) {\n",
              "          const element = document.querySelector('#df-d67eaf2a-a052-4ef3-9fb6-16ff719ddcb8');\n",
              "          const dataTable =\n",
              "            await google.colab.kernel.invokeFunction('convertToInteractive',\n",
              "                                                     [key], {});\n",
              "          if (!dataTable) return;\n",
              "\n",
              "          const docLinkHtml = 'Like what you see? Visit the ' +\n",
              "            '<a target=\"_blank\" href=https://colab.research.google.com/notebooks/data_table.ipynb>data table notebook</a>'\n",
              "            + ' to learn more about interactive tables.';\n",
              "          element.innerHTML = '';\n",
              "          dataTable['output_type'] = 'display_data';\n",
              "          await google.colab.output.renderOutput(dataTable, element);\n",
              "          const docLink = document.createElement('div');\n",
              "          docLink.innerHTML = docLinkHtml;\n",
              "          element.appendChild(docLink);\n",
              "        }\n",
              "      </script>\n",
              "    </div>\n",
              "  </div>\n",
              "  "
            ]
          },
          "metadata": {},
          "execution_count": 42
        }
      ],
      "source": [
        "combined_gdf.head()"
      ]
    },
    {
      "cell_type": "code",
      "execution_count": null,
      "metadata": {
        "id": "KpFL39TkjECm"
      },
      "outputs": [],
      "source": [
        "combined_gdf['centroid'] = combined_gdf['geometry'].centroid"
      ]
    },
    {
      "cell_type": "code",
      "execution_count": null,
      "metadata": {
        "id": "3raPSDw0k-dW"
      },
      "outputs": [],
      "source": [
        "combined_gdf['c_s'] = np.hypot(combined_gdf['u_x'], combined_gdf['v_x'])"
      ]
    },
    {
      "cell_type": "markdown",
      "metadata": {
        "id": "qsb1qA0QfLzc"
      },
      "source": [
        "# Simulation\n",
        "This simulation is a simplified model which\n",
        "- moves the vehicle based on surface current\n",
        "- moves the vehicle based on wind\n"
      ]
    },
    {
      "cell_type": "code",
      "source": [
        "def coords_to_gdf(coords):\n",
        "  crs={'init':'epsg:4236'} # Coordinate Reference System\n",
        "  dummy_df = pd.DataFrame()\n",
        "  dummy_df['Attrib'] = [1,]\n",
        "  path = LineString(coords)\n",
        "  path_gdf = geopandas.GeoDataFrame(dummy_df, geometry=[path])\n",
        "  return path_gdf"
      ],
      "metadata": {
        "id": "6q6zJ5diBCZy"
      },
      "execution_count": null,
      "outputs": []
    },
    {
      "cell_type": "code",
      "source": [
        "def vis_map(map_gdf, coords_gdf, lines=True, title='Map Visualization'):\n",
        "  \"\"\"Visualize North Atlantic\"\"\"\n",
        "  p = map_gdf.plot(figsize=(12,8), column='zlev', cmap='jet')\n",
        "  if(lines):\n",
        "    western_line_data.plot(ax=p, color='green')\n",
        "    eastern_line_data.plot(ax=p, color='red')\n",
        "  \n",
        "  map_gdf.plot(ax=p, facecolor='none', edgecolor='gray', alpha=.1)\n",
        "  coords_gdf.plot(ax=p, color='orange')\n",
        "  plt.title(title)\n",
        "  plt.xlabel('longitude')\n",
        "  plt.ylabel('latitude')\n",
        "  plt.show()"
      ],
      "metadata": {
        "id": "vVK7LcUQNDBU"
      },
      "execution_count": null,
      "outputs": []
    },
    {
      "cell_type": "code",
      "source": [
        "def current_delta(curr_x, curr_y, coeff=1):\n",
        "  \"\"\"Simple function for calculating change in position based on current\"\"\"\n",
        "  d_x = coeff * curr_x / 111000\n",
        "  d_y = coeff * curr_y / 111000\n",
        "  return d_x, d_y\n",
        "def wind_delta(wind_x, wind_y, coeff=1):\n",
        "  \"\"\"Simple function for calculating change in position based on wind\"\"\"\n",
        "  d_x = coeff * wind_x / 111000\n",
        "  d_y = coeff * wind_y / 111000\n",
        "  return d_x, d_y\n",
        "def prob_interference(num_ships, area, vis_range=450, prob_interfere=.1):\n",
        "  \"\"\"Function for determining probability of ship interfering\"\"\"\n",
        "  vis_area = math.pi * (vis_range ** 2)\n",
        "  prob_sighting = vis_area / area\n",
        "  prob_interrupt = prob_interfere * prob_sighting * num_ships\n",
        "  return prob_interrupt\n",
        "def within_area(gdf, x, y):\n",
        "  xmin, ymin, xmax, ymax = gdf.total_bounds\n",
        "  if y > ymin and y < ymax and x > xmin and x < xmax:\n",
        "    return True\n",
        "  else:\n",
        "    return False"
      ],
      "metadata": {
        "id": "S5jtu9A7xUzh"
      },
      "execution_count": null,
      "outputs": []
    },
    {
      "cell_type": "code",
      "source": [
        "# https://www.robsonforensic.com/articles/visibility-factors-in-small-boat-collisions-expert-research\n",
        "# Need to add projections in future versions, for now approximate\n",
        "# https://www.usna.edu/Users/oceano/pguth/md_help/html/approx_equivalents.htm\n",
        "# 1 degree = 111 km"
      ],
      "metadata": {
        "id": "HoGm6cueYUUb"
      },
      "execution_count": null,
      "outputs": []
    },
    {
      "cell_type": "code",
      "source": [
        "def simulation(gdf, start_coords, vehicle_params, max_iterations=50, \n",
        "               rng=None, timestep=10000):\n",
        "  # Start condition\n",
        "  coords = [start_coords]\n",
        "  grid_cell_area = 111000.0**2\n",
        "  curr_coeff = 1\n",
        "  factor = timestep\n",
        "\n",
        "  # Simulation loops until max_iterations or termination condition\n",
        "  for i in range(max_iterations):\n",
        "    co = coords[i]\n",
        "    try:\n",
        "      # Current vector components\n",
        "      curr_x = gdf.cx[co[0], co[1]].head(1).u_x.values[0]\n",
        "      curr_y = gdf.cx[co[0], co[1]].head(1).v_x.values[0]\n",
        "      # Wind vector components\n",
        "      wind_x = gdf.cx[co[0], co[1]].head(1).u_y.values[0]\n",
        "      wind_y = gdf.cx[co[0], co[1]].head(1).v_y.values[0]\n",
        "      # Ship density\n",
        "      num_ships = gdf.cx[co[0], co[1]].head(1).n.values[0]\n",
        "    except:\n",
        "      if (within_area(gdf, co[0], co[1])):\n",
        "        return ('Termination: Beached', coords)\n",
        "      return ('Termination: Invalid', coords)\n",
        "      \n",
        "    # Calculate interference occurence\n",
        "    if num_ships > 0 and rng is not None:\n",
        "      pr_int = prob_interference(num_ships, grid_cell_area)\n",
        "      r = rng.random()\n",
        "      if r < pr_int:\n",
        "        return ('Termination: Interference', coords)  \n",
        "\n",
        "    # Get current deltas\n",
        "    cd_x, cd_y = current_delta(curr_x, curr_y, coeff=1)\n",
        "    # Get wind deltas\n",
        "    wd_x, wd_y = wind_delta(wind_x, wind_y, coeff=1)\n",
        "    # Calculate new position\n",
        "    d_x = factor * (cd_x + wd_x)\n",
        "    d_y = factor * (cd_y + wd_y)\n",
        "    new_x = co[0] + d_x\n",
        "    new_y = co[1] + d_y\n",
        "    if math.isnan(new_x) or math.isnan(new_y):\n",
        "      return ('Termination: Beached', coords)\n",
        "    \n",
        "    # Add new position to list\n",
        "    coords.append([new_x, new_y])\n",
        "\n",
        "  return ('Termination: Max Time Steps', coords)"
      ],
      "metadata": {
        "id": "Otd4QwFxxR-0"
      },
      "execution_count": null,
      "outputs": []
    },
    {
      "cell_type": "code",
      "source": [
        "rng = np.random.default_rng(seed=74)\n",
        "def add_gaussian_noise(gdf, rng, scale=.075):\n",
        "  random_cols = [\"u_x\", \"v_x\", \"w\", \"u_y\", \"v_y\", \"u_g\", \"v_g\"]\n",
        "  gdf_copy = gdf.copy()\n",
        "  for col in gdf_copy.columns:\n",
        "    if col in random_cols:\n",
        "      stdev = gdf_copy[col].std()\n",
        "      mean = gdf_copy[col].mean()\n",
        "      gdf_copy[col] += rng.normal(loc=mean, scale=stdev * scale, size=gdf_copy[col].size)\n",
        "  gdf_copy['centroid'] = gdf_copy['geometry'].centroid\n",
        "  gdf_copy['c_s'] = np.hypot(gdf_copy['u_x'], gdf_copy['v_x'])\n",
        "  return gdf_copy"
      ],
      "metadata": {
        "id": "d9Xy95GXJoi-"
      },
      "execution_count": null,
      "outputs": []
    },
    {
      "cell_type": "code",
      "source": [
        "# combined_gdf.head()\n",
        "# combined_gdf_noise = add_gaussian_noise(combined_gdf, 0.075)\n",
        "# simulation(combined_gdf_noise, (-66.088, 38.4152), .9, 100)"
      ],
      "metadata": {
        "id": "BDg4l0UlJFWF"
      },
      "execution_count": null,
      "outputs": []
    },
    {
      "cell_type": "code",
      "source": [
        "exit_condition, sim_coords = simulation(combined_gdf, (-70, 40), .9, 200, rng=rng)\n",
        "print(exit_condition)\n",
        "sim_gdf = coords_to_gdf(sim_coords)\n",
        "vis_map(combined_gdf, sim_gdf)"
      ],
      "metadata": {
        "id": "r96p-BcoMvvk",
        "colab": {
          "base_uri": "https://localhost:8080/",
          "height": 501
        },
        "outputId": "a7f35509-c9f5-4e55-e263-e63381686b92"
      },
      "execution_count": null,
      "outputs": [
        {
          "output_type": "stream",
          "name": "stdout",
          "text": [
            "Termination: Interference\n"
          ]
        },
        {
          "output_type": "display_data",
          "data": {
            "text/plain": [
              "<Figure size 864x576 with 1 Axes>"
            ],
            "image/png": "[encoded data removed]"
          },
          "metadata": {
            "needs_background": "light"
          }
        }
      ]
    },
    {
      "cell_type": "code",
      "source": [
        "simulation(combined_gdf, (-66.088, 38.4152), .9, 100, rng=rng)"
      ],
      "metadata": {
        "id": "6gi-dN5z7O5K",
        "colab": {
          "base_uri": "https://localhost:8080/"
        },
        "outputId": "1229c220-d067-479b-836c-4a17cf6cad99"
      },
      "execution_count": null,
      "outputs": [
        {
          "output_type": "execute_result",
          "data": {
            "text/plain": [
              "('Termination: Max Time Steps',\n",
              " [(-66.088, 38.4152),\n",
              "  [-66.03275111395156, 38.45584582958093],\n",
              "  [-65.97750222790313, 38.49649165916186],\n",
              "  [-65.85067947429968, 38.5739279203916],\n",
              "  [-65.72385672069623, 38.65136418162133],\n",
              "  [-65.59703396709278, 38.72880044285107],\n",
              "  [-65.47021121348934, 38.8062367040808],\n",
              "  [-65.34338845988589, 38.88367296531054],\n",
              "  [-65.21656570628244, 38.96110922654027],\n",
              "  [-65.08974295267899, 39.03854548777001],\n",
              "  [-65.03440807317152, 39.02565121756697],\n",
              "  [-64.97907319366405, 39.012756947363926],\n",
              "  [-64.88310260177566, 39.06076649465949],\n",
              "  [-64.78713200988727, 39.10877604195505],\n",
              "  [-64.69116141799888, 39.15678558925062],\n",
              "  [-64.5951908261105, 39.20479513654618],\n",
              "  [-64.49922023422211, 39.252804683841745],\n",
              "  [-64.40324964233372, 39.30081423113731],\n",
              "  [-64.30727905044533, 39.34882377843287],\n",
              "  [-64.21130845855694, 39.39683332572844],\n",
              "  [-64.11533786666855, 39.444842873024],\n",
              "  [-64.01936727478017, 39.492852420319565],\n",
              "  [-63.92339668289177, 39.54086196761513],\n",
              "  [-63.77133327997678, 39.647266884942205],\n",
              "  [-63.61926987706179, 39.75367180226928],\n",
              "  [-63.4672064741468, 39.86007671959636],\n",
              "  [-63.31514307123181, 39.96648163692343],\n",
              "  [-63.16307966831682, 40.07288655425051],\n",
              "  [-63.08493777361744, 40.1180575658003],\n",
              "  [-63.00679587891806, 40.16322857735009],\n",
              "  [-62.928653984218684, 40.20839958889988],\n",
              "  [-62.79959345688247, 40.28095621960847],\n",
              "  [-62.670532929546255, 40.35351285031706],\n",
              "  [-62.54147240221004, 40.42606948102565],\n",
              "  [-62.412411874873825, 40.49862611173424],\n",
              "  [-62.28335134753761, 40.57118274244283],\n",
              "  [-62.154290820201396, 40.64373937315142],\n",
              "  [-62.02523029286518, 40.71629600386001],\n",
              "  [-61.89616976552897, 40.7888526345686],\n",
              "  [-61.767721669279595, 40.74910946890148],\n",
              "  [-61.63927357303022, 40.70936630323436],\n",
              "  [-61.51082547678085, 40.66962313756724],\n",
              "  [-61.38237738053148, 40.629879971900124],\n",
              "  [-61.25392928428211, 40.590136806233005],\n",
              "  [-61.12548118803274, 40.550393640565886],\n",
              "  [-60.997033091783365, 40.51065047489877],\n",
              "  [-60.85375851408614, 40.48301337881737],\n",
              "  [-60.71048393638891, 40.45537628273597],\n",
              "  [-60.567209358691684, 40.42773918665457],\n",
              "  [-60.42393478099446, 40.40010209057317],\n",
              "  [-60.28066020329723, 40.37246499449177],\n",
              "  [-60.137385625600004, 40.34482789841037],\n",
              "  [-59.99411104790278, 40.31719080232897],\n",
              "  [-59.76395800755543, 40.3379776667677],\n",
              "  [-59.533804967208084, 40.358764531206425],\n",
              "  [-59.30365192686074, 40.37955139564515],\n",
              "  [-59.07349888651339, 40.40033826008388],\n",
              "  [-58.843345846166045, 40.421125124522604],\n",
              "  [-58.58958049498638, 40.52458509474402],\n",
              "  [-58.33581514380671, 40.628045064965434],\n",
              "  [-58.082049792627046, 40.73150503518685],\n",
              "  [-57.82828444144738, 40.834965005408264],\n",
              "  [-57.59955062216838, 40.89700680237272],\n",
              "  [-57.37081680288938, 40.95904859933718],\n",
              "  [-57.14208298361038, 41.02109039630164],\n",
              "  [-56.90099213275224, 41.04681338251654],\n",
              "  [-56.67515525145771, 41.04675526213075],\n",
              "  [-56.449318370163176, 41.046697141744964],\n",
              "  [-56.22348148886864, 41.04663902135918],\n",
              "  [-55.99764460757411, 41.04658090097339],\n",
              "  [-55.802577727575574, 41.03582087253946],\n",
              "  [-55.60751084757704, 41.02506084410553],\n",
              "  [-55.412443967578504, 41.014300815671604],\n",
              "  [-55.21737708757997, 41.003540787237675],\n",
              "  [-55.022310207581434, 40.99278075880375],\n",
              "  [-54.784944762347905, 40.9603276627121],\n",
              "  [-54.529378295289845, 40.99573219590865],\n",
              "  [-54.273811828231786, 41.0311367291052],\n",
              "  [-54.03992561592972, 41.01453383876092],\n",
              "  [-53.80603940362765, 40.99793094841664],\n",
              "  [-53.53581524172638, 41.038558535458904],\n",
              "  [-53.28219243157131, 41.053206564614534],\n",
              "  [-53.02856962141624, 41.067854593770164],\n",
              "  [-52.77494681126117, 41.082502622925794],\n",
              "  [-52.567690332663396, 41.06568635280477],\n",
              "  [-52.360433854065626, 41.04887008268374],\n",
              "  [-52.153177375467855, 41.032053812562715],\n",
              "  [-51.945920896870085, 41.01523754244169],\n",
              "  [-51.74362166389393, 40.91703866546974],\n",
              "  [-51.56207668947886, 40.838226037612536],\n",
              "  [-51.38053171506378, 40.75941340975533],\n",
              "  [-51.19898674064871, 40.68060078189813],\n",
              "  [-51.01744176623363, 40.601788154040925],\n",
              "  [-50.835896791818556, 40.52297552618372],\n",
              "  [-50.549859031485894, 40.366536842796044],\n",
              "  [-50.26382127115323, 40.21009815940837],\n",
              "  [-49.97778351082057, 40.05365947602069],\n",
              "  [-49.663564999929775, 39.923689662381825],\n",
              "  [-49.465777615107726, 39.81134260540255],\n",
              "  [-49.267990230285676, 39.69899554842328],\n",
              "  [-49.070202845463626, 39.586648491444]])"
            ]
          },
          "metadata": {},
          "execution_count": 53
        }
      ]
    },
    {
      "cell_type": "markdown",
      "metadata": {
        "id": "KrlFKYqTfhEw"
      },
      "source": [
        "# Validation\n",
        "https://apps-nefsc.fisheries.noaa.gov/drifter/"
      ]
    },
    {
      "cell_type": "code",
      "source": [
        "def load_drift_data(f):\n",
        "  driftset = pd.read_csv(f)\n",
        "  driftset = driftset.drop(columns=['MTH', 'DAY', 'HR_GMT', 'MIN', 'YEARDAY', 'DEPTH'])\n",
        "  driftlist = []\n",
        "  for id, df_id in driftset.groupby('ID'):\n",
        "    driftlist.append(df_id)\n",
        "  return driftlist"
      ],
      "metadata": {
        "id": "aqD1H383zi5r"
      },
      "execution_count": null,
      "outputs": []
    },
    {
      "cell_type": "code",
      "source": [
        "drifters = load_drift_data('drift_ep_2018_1.csv')\n",
        "len(drifters)"
      ],
      "metadata": {
        "id": "kYXgIlLbZJgP",
        "colab": {
          "base_uri": "https://localhost:8080/"
        },
        "outputId": "e971850f-b811-4b12-bea9-70d3fa840bef"
      },
      "execution_count": null,
      "outputs": [
        {
          "output_type": "execute_result",
          "data": {
            "text/plain": [
              "14"
            ]
          },
          "metadata": {},
          "execution_count": 55
        }
      ]
    },
    {
      "cell_type": "code",
      "source": [
        "def euclidean_dist(x1, y1, x2, y2):\n",
        "  return (math.sqrt((abs(x1-x2)**2 + abs(y1-y2)**2)))\n",
        "\n",
        "def metric_one(gdf, base_path, timestep):\n",
        "  errors = []\n",
        "  exit_conditions = []\n",
        "  for i in range(len(base_path)-1):\n",
        "    coords = base_path[i]\n",
        "    exit_condition, path = simulation(gdf, coords, 1, max_iterations=1, timestep=timestep)\n",
        "    error = euclidean_dist(*path[-1], *base_path[i+1])\n",
        "    errors.append(error)\n",
        "    exit_conditions.append(exit_condition)\n",
        "  avg_error = statistics.mean(errors)\n",
        "  stdev = statistics.stdev(errors)\n",
        "  return (avg_error, stdev)\n",
        "\n",
        "def metric_two(gdf, base_path, timestep, max_iterations=50):\n",
        "  exit_condition, path = simulation(gdf, base_path[0], 1, \n",
        "                                    max_iterations=max_iterations, \n",
        "                                    timestep=timestep)\n",
        "  error = euclidean_dist(*path[-1], *base_path[-1])\n",
        "  return error, exit_condition, path\n",
        "\n",
        "def trajectory_validation(base_path, max_iterations=50, seed=42, n=5, timestep=43200):\n",
        "  rng = np.random.default_rng(seed)\n",
        "  curr_gdf = add_gaussian_noise(combined_gdf, rng)\n",
        "  avg_error_one, stdev_one = metric_one(curr_gdf, base_path, 42300)\n",
        "\n",
        "  errors_two = []\n",
        "  ec_two = []\n",
        "  paths = []\n",
        "  i = 0\n",
        "  for i in range(n):\n",
        "    curr_gdf = add_gaussian_noise(combined_gdf, rng)\n",
        "    error_two, exit_condition, p = metric_two(curr_gdf, base_path, \n",
        "                                              timestep=timestep,\n",
        "                                              max_iterations=max_iterations)\n",
        "\n",
        "    errors_two.append(error_two)\n",
        "    ec_two.append(exit_condition)\n",
        "    paths.append(p)\n",
        "  avg_error_two = statistics.mean(errors_two)\n",
        "  stdev_two = statistics.stdev(errors_two)\n",
        "\n",
        "  print(\"Metric One:\")\n",
        "  print(\"Average Error:\", avg_error_one, \" Standard Deviation:\", stdev_one)\n",
        "  print(\"Metric Two:\")\n",
        "  print(\"Average Error:\", avg_error_two, \" Standard Deviation:\", stdev_two)\n",
        "\n",
        "  return (avg_error_one, stdev_one, avg_error_two, stdev_two, errors_two, ec_two, paths)"
      ],
      "metadata": {
        "id": "OXmg1pXA9N53"
      },
      "execution_count": null,
      "outputs": []
    },
    {
      "cell_type": "markdown",
      "source": [
        "### Case 1\n",
        "Approximate timestep = 12 hours = 43200 seconds\n"
      ],
      "metadata": {
        "id": "tRHliwvUZlrK"
      }
    },
    {
      "cell_type": "code",
      "source": [
        "path1 = list(zip(drifters[0]['LON'], drifters[0]['LAT']))[450:500]\n",
        "case1_gdf = coords_to_gdf(path1)\n",
        "vis_map(combined_gdf, case1_gdf, title=\"Case 1\")"
      ],
      "metadata": {
        "id": "vdGtLyGF-Cy2",
        "colab": {
          "base_uri": "https://localhost:8080/",
          "height": 484
        },
        "outputId": "6f0a9ba8-69bb-452d-eb65-22b7cdeb38a2"
      },
      "execution_count": null,
      "outputs": [
        {
          "output_type": "display_data",
          "data": {
            "text/plain": [
              "<Figure size 864x576 with 1 Axes>"
            ],
            "image/png": "[encoded data removed]"
          },
          "metadata": {
            "needs_background": "light"
          }
        }
      ]
    },
    {
      "cell_type": "code",
      "source": [
        "ao, so, ae2, se2, e2, ec2, p2 = trajectory_validation(path1)\n",
        "print(ec2)"
      ],
      "metadata": {
        "id": "_fDttjwTUFj4",
        "colab": {
          "base_uri": "https://localhost:8080/"
        },
        "outputId": "a83e094a-41ab-48c1-aaf7-0831ec3482c7"
      },
      "execution_count": null,
      "outputs": [
        {
          "output_type": "stream",
          "name": "stdout",
          "text": [
            "Metric One:\n",
            "Average Error: 0.7399890347036183  Standard Deviation: 0.24965640087684843\n",
            "Metric Two:\n",
            "Average Error: 31.393087821631475  Standard Deviation: 0.9766131725377283\n",
            "['Termination: Max Time Steps', 'Termination: Max Time Steps', 'Termination: Max Time Steps', 'Termination: Max Time Steps', 'Termination: Max Time Steps']\n"
          ]
        }
      ]
    },
    {
      "cell_type": "code",
      "source": [
        "check_gdf = coords_to_gdf(p2[0])\n",
        "vis_map(combined_gdf, check_gdf, title='Case 1 Simulation Sample')"
      ],
      "metadata": {
        "colab": {
          "base_uri": "https://localhost:8080/",
          "height": 484
        },
        "id": "pVyWBJExdV5w",
        "outputId": "1d672f36-9db9-4e79-c1f8-3fdc0cae9081"
      },
      "execution_count": null,
      "outputs": [
        {
          "output_type": "display_data",
          "data": {
            "text/plain": [
              "<Figure size 864x576 with 1 Axes>"
            ],
            "image/png": "[encoded data removed]"
          },
          "metadata": {
            "needs_background": "light"
          }
        }
      ]
    },
    {
      "cell_type": "markdown",
      "source": [
        "### Case 2\n",
        "Approximate timestep = 12 hours = 43200 seconds\n"
      ],
      "metadata": {
        "id": "ADQRhxkRZ2f1"
      }
    },
    {
      "cell_type": "code",
      "source": [
        "path2 = list(zip(drifters[1]['LON'], drifters[1]['LAT']))[50:100]\n",
        "case2_gdf = coords_to_gdf(path2)\n",
        "vis_map(combined_gdf, case2_gdf, title=\"Case 2\")"
      ],
      "metadata": {
        "colab": {
          "base_uri": "https://localhost:8080/",
          "height": 484
        },
        "id": "J8IZPaAue4iE",
        "outputId": "ebfb7ddf-2efe-4938-9293-5977e75a3ed9"
      },
      "execution_count": null,
      "outputs": [
        {
          "output_type": "display_data",
          "data": {
            "text/plain": [
              "<Figure size 864x576 with 1 Axes>"
            ],
            "image/png": "[encoded data removed]"
          },
          "metadata": {
            "needs_background": "light"
          }
        }
      ]
    },
    {
      "cell_type": "code",
      "source": [
        "c2_ao, c2_so, c2_ae2, c2_se2, c2_e2, c2_ec2, c2_p2 = trajectory_validation(path2)\n",
        "print(c2_ec2)"
      ],
      "metadata": {
        "colab": {
          "base_uri": "https://localhost:8080/"
        },
        "id": "VJJ-aqQZfFWo",
        "outputId": "336c101c-1da0-4c1d-c792-511bb95579c2"
      },
      "execution_count": null,
      "outputs": [
        {
          "output_type": "stream",
          "name": "stdout",
          "text": [
            "Metric One:\n",
            "Average Error: 0.8115790744082398  Standard Deviation: 0.27637340336634847\n",
            "Metric Two:\n",
            "Average Error: 34.226878095053195  Standard Deviation: 2.3425464864373087\n",
            "['Termination: Beached', 'Termination: Max Time Steps', 'Termination: Max Time Steps', 'Termination: Max Time Steps', 'Termination: Max Time Steps']\n"
          ]
        }
      ]
    },
    {
      "cell_type": "code",
      "source": [
        "check_gdf = coords_to_gdf(c2_p2[0])\n",
        "vis_map(combined_gdf, check_gdf, title='Case 2 Simulation Sample')"
      ],
      "metadata": {
        "colab": {
          "base_uri": "https://localhost:8080/",
          "height": 484
        },
        "id": "KtVdCfUufhFz",
        "outputId": "150b62c9-7a1d-4edf-c688-9150ab4163a4"
      },
      "execution_count": null,
      "outputs": [
        {
          "output_type": "display_data",
          "data": {
            "text/plain": [
              "<Figure size 864x576 with 1 Axes>"
            ],
            "image/png": "[encoded data removed]"
          },
          "metadata": {
            "needs_background": "light"
          }
        }
      ]
    },
    {
      "cell_type": "markdown",
      "source": [
        "### Case 3\n",
        "Approximate timestep = 12 hours = 43200 seconds\n"
      ],
      "metadata": {
        "id": "L3-WqzKEZ2uM"
      }
    },
    {
      "cell_type": "code",
      "source": [
        "path3 = list(zip(drifters[1]['LON'], drifters[1]['LAT']))[100:150]\n",
        "case3_gdf = coords_to_gdf(path3)\n",
        "vis_map(combined_gdf, case3_gdf, title=\"Case 3\")"
      ],
      "metadata": {
        "id": "H-9JiITgaGsq",
        "colab": {
          "base_uri": "https://localhost:8080/",
          "height": 484
        },
        "outputId": "01c73f08-837f-4be4-d418-c7592e9bf2c0"
      },
      "execution_count": null,
      "outputs": [
        {
          "output_type": "display_data",
          "data": {
            "text/plain": [
              "<Figure size 864x576 with 1 Axes>"
            ],
            "image/png": "[encoded data removed]"
          },
          "metadata": {
            "needs_background": "light"
          }
        }
      ]
    },
    {
      "cell_type": "code",
      "source": [
        "c3_ao, c3_so, c3_ae2, c3_se2, c3_e2, c3_ec2, c3_p2 = trajectory_validation(path3)\n",
        "print(c3_ec2)"
      ],
      "metadata": {
        "colab": {
          "base_uri": "https://localhost:8080/"
        },
        "id": "pWmhlagPhOrK",
        "outputId": "daab2d58-4026-48bb-8898-b1948d98d67e"
      },
      "execution_count": null,
      "outputs": [
        {
          "output_type": "stream",
          "name": "stdout",
          "text": [
            "Metric One:\n",
            "Average Error: 1.0727195829888623  Standard Deviation: 0.40727953496769004\n",
            "Metric Two:\n",
            "Average Error: 28.052602655312686  Standard Deviation: 1.7493539981551787\n",
            "['Termination: Beached', 'Termination: Beached', 'Termination: Beached', 'Termination: Beached', 'Termination: Beached']\n"
          ]
        }
      ]
    },
    {
      "cell_type": "code",
      "source": [
        "check_gdf = coords_to_gdf(c3_p2[0])\n",
        "vis_map(combined_gdf, check_gdf, title='Case 3 Simulation Sample')"
      ],
      "metadata": {
        "colab": {
          "base_uri": "https://localhost:8080/",
          "height": 484
        },
        "id": "pwt37xWYhTM2",
        "outputId": "b45509ec-adc5-44af-e7c5-285e9747f220"
      },
      "execution_count": null,
      "outputs": [
        {
          "output_type": "display_data",
          "data": {
            "text/plain": [
              "<Figure size 864x576 with 1 Axes>"
            ],
            "image/png": "[encoded data removed]"
          },
          "metadata": {
            "needs_background": "light"
          }
        }
      ]
    },
    {
      "cell_type": "markdown",
      "source": [
        "## Intial Study"
      ],
      "metadata": {
        "id": "rfi77--GjaAf"
      }
    },
    {
      "cell_type": "code",
      "source": [
        "rng = np.random.default_rng(42)"
      ],
      "metadata": {
        "id": "j72L4Ax_hVx8"
      },
      "execution_count": null,
      "outputs": []
    },
    {
      "cell_type": "code",
      "source": [
        "study_gdf = add_gaussian_noise(combined_gdf, rng, scale=.075)\n",
        "exit_condition, path = simulation(study_gdf, (-52, 47), 1, max_iterations=300, timestep=10000)\n",
        "north_gdf = coords_to_gdf(path)\n",
        "vis_map(combined_gdf, north_gdf, title=\"Northern Route\")"
      ],
      "metadata": {
        "colab": {
          "base_uri": "https://localhost:8080/",
          "height": 484
        },
        "id": "eHaI0KHum5XB",
        "outputId": "0d3ac407-caef-47d7-dc62-2de930c55863"
      },
      "execution_count": null,
      "outputs": [
        {
          "output_type": "display_data",
          "data": {
            "text/plain": [
              "<Figure size 864x576 with 1 Axes>"
            ],
            "image/png": "[encoded data removed]"
          },
          "metadata": {
            "needs_background": "light"
          }
        }
      ]
    },
    {
      "cell_type": "code",
      "source": [
        "study2_gdf = add_gaussian_noise(combined_gdf, rng, scale=.075)\n",
        "exit_condition, path = simulation(study_gdf, (-17, 28), 1, max_iterations=300, timestep=10000)\n",
        "south_gdf = coords_to_gdf(path)\n",
        "vis_map(combined_gdf, south_gdf, title=\"Southern Route\")"
      ],
      "metadata": {
        "colab": {
          "base_uri": "https://localhost:8080/",
          "height": 484
        },
        "id": "4MUWBKWbnnGX",
        "outputId": "5bff2a4f-edfd-4cf2-a17d-f6d513dd73a9"
      },
      "execution_count": null,
      "outputs": [
        {
          "output_type": "display_data",
          "data": {
            "text/plain": [
              "<Figure size 864x576 with 1 Axes>"
            ],
            "image/png": "[encoded data removed]"
          },
          "metadata": {
            "needs_background": "light"
          }
        }
      ]
    }
  ],
  "metadata": {
    "colab": {
      "collapsed_sections": [
        "oIiAP8GkBKg0",
        "aP9V-PQc4aAb",
        "WKDw8ha8ggJ5"
      ],
      "name": "ocean-sim.ipynb",
      "provenance": []
    },
    "kernelspec": {
      "display_name": "Python 3",
      "name": "python3"
    },
    "language_info": {
      "name": "python"
    }
  },
  "nbformat": 4,
  "nbformat_minor": 0
}